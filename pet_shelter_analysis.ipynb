{
 "cells": [
  {
   "cell_type": "markdown",
   "id": "1fcbb8f3",
   "metadata": {},
   "source": [
    "# Pet Shelter Analysis\n",
    "\n",
    "Data Analyst TechDegree, Unit 5 Assignment<br>Kristen Bouzaid, 29 November 2022"
   ]
  },
  {
   "cell_type": "code",
   "execution_count": 22,
   "id": "1d4c3c11",
   "metadata": {},
   "outputs": [],
   "source": [
    "import pandas as pd\n",
    "intakes = pd.read_csv('aac_intakes.csv')\n",
    "intakes_outcomes = pd.read_csv('aac_intakes_outcomes.csv')\n",
    "outcomes = pd.read_csv('aac_outcomes.csv')"
   ]
  },
  {
   "cell_type": "markdown",
   "id": "57cce6ad",
   "metadata": {},
   "source": [
    "## Understanding the Data"
   ]
  },
  {
   "cell_type": "code",
   "execution_count": 26,
   "id": "8fc1a19f",
   "metadata": {},
   "outputs": [
    {
     "data": {
      "text/plain": [
       "((80187, 12), (80681, 12), (79672, 41))"
      ]
     },
     "execution_count": 26,
     "metadata": {},
     "output_type": "execute_result"
    }
   ],
   "source": [
    "# looking at the data to determine number of rows and columns\n",
    "intakes.shape, outcomes.shape, intakes_outcomes.shape"
   ]
  },
  {
   "cell_type": "code",
   "execution_count": 27,
   "id": "e8ab25a2",
   "metadata": {},
   "outputs": [
    {
     "data": {
      "text/plain": [
       "(80187, 80681, 79672)"
      ]
     },
     "execution_count": 27,
     "metadata": {},
     "output_type": "execute_result"
    }
   ],
   "source": [
    "# a different way of looking at number of rows\n",
    "len(intakes), len(outcomes), len(intakes_outcomes)"
   ]
  },
  {
   "cell_type": "code",
   "execution_count": 28,
   "id": "4364f3d5",
   "metadata": {},
   "outputs": [
    {
     "name": "stdout",
     "output_type": "stream",
     "text": [
      "<class 'pandas.core.frame.DataFrame'>\n",
      "RangeIndex: 80187 entries, 0 to 80186\n",
      "Data columns (total 12 columns):\n",
      " #   Column            Non-Null Count  Dtype \n",
      "---  ------            --------------  ----- \n",
      " 0   age_upon_intake   80187 non-null  object\n",
      " 1   animal_id         80187 non-null  object\n",
      " 2   animal_type       80187 non-null  object\n",
      " 3   breed             80187 non-null  object\n",
      " 4   color             80187 non-null  object\n",
      " 5   datetime          80187 non-null  object\n",
      " 6   datetime2         80187 non-null  object\n",
      " 7   found_location    80187 non-null  object\n",
      " 8   intake_condition  80187 non-null  object\n",
      " 9   intake_type       80187 non-null  object\n",
      " 10  name              55603 non-null  object\n",
      " 11  sex_upon_intake   80186 non-null  object\n",
      "dtypes: object(12)\n",
      "memory usage: 7.3+ MB\n"
     ]
    }
   ],
   "source": [
    "intakes.info()"
   ]
  },
  {
   "cell_type": "code",
   "execution_count": 29,
   "id": "7ed55d3d",
   "metadata": {},
   "outputs": [
    {
     "name": "stdout",
     "output_type": "stream",
     "text": [
      "<class 'pandas.core.frame.DataFrame'>\n",
      "RangeIndex: 80681 entries, 0 to 80680\n",
      "Data columns (total 12 columns):\n",
      " #   Column            Non-Null Count  Dtype \n",
      "---  ------            --------------  ----- \n",
      " 0   age_upon_outcome  80673 non-null  object\n",
      " 1   animal_id         80681 non-null  object\n",
      " 2   animal_type       80681 non-null  object\n",
      " 3   breed             80681 non-null  object\n",
      " 4   color             80681 non-null  object\n",
      " 5   date_of_birth     80681 non-null  object\n",
      " 6   datetime          80681 non-null  object\n",
      " 7   monthyear         80681 non-null  object\n",
      " 8   name              56116 non-null  object\n",
      " 9   outcome_subtype   36893 non-null  object\n",
      " 10  outcome_type      80667 non-null  object\n",
      " 11  sex_upon_outcome  80679 non-null  object\n",
      "dtypes: object(12)\n",
      "memory usage: 7.4+ MB\n"
     ]
    }
   ],
   "source": [
    "outcomes.info()"
   ]
  },
  {
   "cell_type": "code",
   "execution_count": 30,
   "id": "53069cb4",
   "metadata": {},
   "outputs": [
    {
     "name": "stdout",
     "output_type": "stream",
     "text": [
      "<class 'pandas.core.frame.DataFrame'>\n",
      "RangeIndex: 79672 entries, 0 to 79671\n",
      "Data columns (total 41 columns):\n",
      " #   Column                      Non-Null Count  Dtype  \n",
      "---  ------                      --------------  -----  \n",
      " 0   age_upon_outcome            79672 non-null  object \n",
      " 1   animal_id_outcome           79672 non-null  object \n",
      " 2   date_of_birth               79672 non-null  object \n",
      " 3   outcome_subtype             36348 non-null  object \n",
      " 4   outcome_type                79662 non-null  object \n",
      " 5   sex_upon_outcome            79671 non-null  object \n",
      " 6   age_upon_outcome_(days)     79672 non-null  int64  \n",
      " 7   age_upon_outcome_(years)    79672 non-null  float64\n",
      " 8   age_upon_outcome_age_group  79672 non-null  object \n",
      " 9   outcome_datetime            79672 non-null  object \n",
      " 10  outcome_month               79672 non-null  int64  \n",
      " 11  outcome_year                79672 non-null  int64  \n",
      " 12  outcome_monthyear           79672 non-null  object \n",
      " 13  outcome_weekday             79672 non-null  object \n",
      " 14  outcome_hour                79672 non-null  int64  \n",
      " 15  outcome_number              79672 non-null  float64\n",
      " 16  dob_year                    79672 non-null  int64  \n",
      " 17  dob_month                   79672 non-null  int64  \n",
      " 18  dob_monthyear               79672 non-null  object \n",
      " 19  age_upon_intake             79672 non-null  object \n",
      " 20  animal_id_intake            79672 non-null  object \n",
      " 21  animal_type                 79672 non-null  object \n",
      " 22  breed                       79672 non-null  object \n",
      " 23  color                       79672 non-null  object \n",
      " 24  found_location              79672 non-null  object \n",
      " 25  intake_condition            79672 non-null  object \n",
      " 26  intake_type                 79672 non-null  object \n",
      " 27  sex_upon_intake             79671 non-null  object \n",
      " 28  count                       79672 non-null  int64  \n",
      " 29  age_upon_intake_(days)      79672 non-null  int64  \n",
      " 30  age_upon_intake_(years)     79672 non-null  float64\n",
      " 31  age_upon_intake_age_group   79672 non-null  object \n",
      " 32  intake_datetime             79672 non-null  object \n",
      " 33  intake_month                79672 non-null  int64  \n",
      " 34  intake_year                 79672 non-null  int64  \n",
      " 35  intake_monthyear            79672 non-null  object \n",
      " 36  intake_weekday              79672 non-null  object \n",
      " 37  intake_hour                 79672 non-null  int64  \n",
      " 38  intake_number               79672 non-null  float64\n",
      " 39  time_in_shelter             79672 non-null  object \n",
      " 40  time_in_shelter_days        79672 non-null  float64\n",
      "dtypes: float64(5), int64(11), object(25)\n",
      "memory usage: 24.9+ MB\n"
     ]
    }
   ],
   "source": [
    "intakes_outcomes.info()"
   ]
  },
  {
   "cell_type": "code",
   "execution_count": 31,
   "id": "4ec004e9",
   "metadata": {},
   "outputs": [
    {
     "data": {
      "text/html": [
       "<div>\n",
       "<style scoped>\n",
       "    .dataframe tbody tr th:only-of-type {\n",
       "        vertical-align: middle;\n",
       "    }\n",
       "\n",
       "    .dataframe tbody tr th {\n",
       "        vertical-align: top;\n",
       "    }\n",
       "\n",
       "    .dataframe thead th {\n",
       "        text-align: right;\n",
       "    }\n",
       "</style>\n",
       "<table border=\"1\" class=\"dataframe\">\n",
       "  <thead>\n",
       "    <tr style=\"text-align: right;\">\n",
       "      <th></th>\n",
       "      <th>age_upon_intake</th>\n",
       "      <th>animal_id</th>\n",
       "      <th>animal_type</th>\n",
       "      <th>breed</th>\n",
       "      <th>color</th>\n",
       "      <th>datetime</th>\n",
       "      <th>datetime2</th>\n",
       "      <th>found_location</th>\n",
       "      <th>intake_condition</th>\n",
       "      <th>intake_type</th>\n",
       "      <th>name</th>\n",
       "      <th>sex_upon_intake</th>\n",
       "    </tr>\n",
       "  </thead>\n",
       "  <tbody>\n",
       "    <tr>\n",
       "      <th>0</th>\n",
       "      <td>8 years</td>\n",
       "      <td>A706918</td>\n",
       "      <td>Dog</td>\n",
       "      <td>English Springer Spaniel</td>\n",
       "      <td>White/Liver</td>\n",
       "      <td>2015-07-05T12:59:00.000</td>\n",
       "      <td>2015-07-05T12:59:00.000</td>\n",
       "      <td>9409 Bluegrass Dr in Austin (TX)</td>\n",
       "      <td>Normal</td>\n",
       "      <td>Stray</td>\n",
       "      <td>Belle</td>\n",
       "      <td>Spayed Female</td>\n",
       "    </tr>\n",
       "    <tr>\n",
       "      <th>1</th>\n",
       "      <td>11 months</td>\n",
       "      <td>A724273</td>\n",
       "      <td>Dog</td>\n",
       "      <td>Basenji Mix</td>\n",
       "      <td>Sable/White</td>\n",
       "      <td>2016-04-14T18:43:00.000</td>\n",
       "      <td>2016-04-14T18:43:00.000</td>\n",
       "      <td>2818 Palomino Trail in Austin (TX)</td>\n",
       "      <td>Normal</td>\n",
       "      <td>Stray</td>\n",
       "      <td>Runster</td>\n",
       "      <td>Intact Male</td>\n",
       "    </tr>\n",
       "    <tr>\n",
       "      <th>2</th>\n",
       "      <td>4 weeks</td>\n",
       "      <td>A665644</td>\n",
       "      <td>Cat</td>\n",
       "      <td>Domestic Shorthair Mix</td>\n",
       "      <td>Calico</td>\n",
       "      <td>2013-10-21T07:59:00.000</td>\n",
       "      <td>2013-10-21T07:59:00.000</td>\n",
       "      <td>Austin (TX)</td>\n",
       "      <td>Sick</td>\n",
       "      <td>Stray</td>\n",
       "      <td>NaN</td>\n",
       "      <td>Intact Female</td>\n",
       "    </tr>\n",
       "    <tr>\n",
       "      <th>3</th>\n",
       "      <td>4 years</td>\n",
       "      <td>A682524</td>\n",
       "      <td>Dog</td>\n",
       "      <td>Doberman Pinsch/Australian Cattle Dog</td>\n",
       "      <td>Tan/Gray</td>\n",
       "      <td>2014-06-29T10:38:00.000</td>\n",
       "      <td>2014-06-29T10:38:00.000</td>\n",
       "      <td>800 Grove Blvd in Austin (TX)</td>\n",
       "      <td>Normal</td>\n",
       "      <td>Stray</td>\n",
       "      <td>Rio</td>\n",
       "      <td>Neutered Male</td>\n",
       "    </tr>\n",
       "    <tr>\n",
       "      <th>4</th>\n",
       "      <td>2 years</td>\n",
       "      <td>A743852</td>\n",
       "      <td>Dog</td>\n",
       "      <td>Labrador Retriever Mix</td>\n",
       "      <td>Chocolate</td>\n",
       "      <td>2017-02-18T12:46:00.000</td>\n",
       "      <td>2017-02-18T12:46:00.000</td>\n",
       "      <td>Austin (TX)</td>\n",
       "      <td>Normal</td>\n",
       "      <td>Owner Surrender</td>\n",
       "      <td>Odin</td>\n",
       "      <td>Neutered Male</td>\n",
       "    </tr>\n",
       "  </tbody>\n",
       "</table>\n",
       "</div>"
      ],
      "text/plain": [
       "  age_upon_intake animal_id animal_type  \\\n",
       "0         8 years   A706918         Dog   \n",
       "1       11 months   A724273         Dog   \n",
       "2         4 weeks   A665644         Cat   \n",
       "3         4 years   A682524         Dog   \n",
       "4         2 years   A743852         Dog   \n",
       "\n",
       "                                   breed        color  \\\n",
       "0               English Springer Spaniel  White/Liver   \n",
       "1                            Basenji Mix  Sable/White   \n",
       "2                 Domestic Shorthair Mix       Calico   \n",
       "3  Doberman Pinsch/Australian Cattle Dog     Tan/Gray   \n",
       "4                 Labrador Retriever Mix    Chocolate   \n",
       "\n",
       "                  datetime                datetime2  \\\n",
       "0  2015-07-05T12:59:00.000  2015-07-05T12:59:00.000   \n",
       "1  2016-04-14T18:43:00.000  2016-04-14T18:43:00.000   \n",
       "2  2013-10-21T07:59:00.000  2013-10-21T07:59:00.000   \n",
       "3  2014-06-29T10:38:00.000  2014-06-29T10:38:00.000   \n",
       "4  2017-02-18T12:46:00.000  2017-02-18T12:46:00.000   \n",
       "\n",
       "                       found_location intake_condition      intake_type  \\\n",
       "0    9409 Bluegrass Dr in Austin (TX)           Normal            Stray   \n",
       "1  2818 Palomino Trail in Austin (TX)           Normal            Stray   \n",
       "2                         Austin (TX)             Sick            Stray   \n",
       "3       800 Grove Blvd in Austin (TX)           Normal            Stray   \n",
       "4                         Austin (TX)           Normal  Owner Surrender   \n",
       "\n",
       "      name sex_upon_intake  \n",
       "0    Belle   Spayed Female  \n",
       "1  Runster     Intact Male  \n",
       "2      NaN   Intact Female  \n",
       "3      Rio   Neutered Male  \n",
       "4     Odin   Neutered Male  "
      ]
     },
     "execution_count": 31,
     "metadata": {},
     "output_type": "execute_result"
    }
   ],
   "source": [
    "intakes.head()"
   ]
  },
  {
   "cell_type": "code",
   "execution_count": 32,
   "id": "99b64bc2",
   "metadata": {},
   "outputs": [
    {
     "data": {
      "text/html": [
       "<div>\n",
       "<style scoped>\n",
       "    .dataframe tbody tr th:only-of-type {\n",
       "        vertical-align: middle;\n",
       "    }\n",
       "\n",
       "    .dataframe tbody tr th {\n",
       "        vertical-align: top;\n",
       "    }\n",
       "\n",
       "    .dataframe thead th {\n",
       "        text-align: right;\n",
       "    }\n",
       "</style>\n",
       "<table border=\"1\" class=\"dataframe\">\n",
       "  <thead>\n",
       "    <tr style=\"text-align: right;\">\n",
       "      <th></th>\n",
       "      <th>age_upon_outcome</th>\n",
       "      <th>animal_id</th>\n",
       "      <th>animal_type</th>\n",
       "      <th>breed</th>\n",
       "      <th>color</th>\n",
       "      <th>date_of_birth</th>\n",
       "      <th>datetime</th>\n",
       "      <th>monthyear</th>\n",
       "      <th>name</th>\n",
       "      <th>outcome_subtype</th>\n",
       "      <th>outcome_type</th>\n",
       "      <th>sex_upon_outcome</th>\n",
       "    </tr>\n",
       "  </thead>\n",
       "  <tbody>\n",
       "    <tr>\n",
       "      <th>0</th>\n",
       "      <td>2 weeks</td>\n",
       "      <td>A684346</td>\n",
       "      <td>Cat</td>\n",
       "      <td>Domestic Shorthair Mix</td>\n",
       "      <td>Orange Tabby</td>\n",
       "      <td>2014-07-07T00:00:00</td>\n",
       "      <td>2014-07-22T16:04:00</td>\n",
       "      <td>2014-07-22T16:04:00</td>\n",
       "      <td>NaN</td>\n",
       "      <td>Partner</td>\n",
       "      <td>Transfer</td>\n",
       "      <td>Intact Male</td>\n",
       "    </tr>\n",
       "    <tr>\n",
       "      <th>1</th>\n",
       "      <td>1 year</td>\n",
       "      <td>A666430</td>\n",
       "      <td>Dog</td>\n",
       "      <td>Beagle Mix</td>\n",
       "      <td>White/Brown</td>\n",
       "      <td>2012-11-06T00:00:00</td>\n",
       "      <td>2013-11-07T11:47:00</td>\n",
       "      <td>2013-11-07T11:47:00</td>\n",
       "      <td>Lucy</td>\n",
       "      <td>Partner</td>\n",
       "      <td>Transfer</td>\n",
       "      <td>Spayed Female</td>\n",
       "    </tr>\n",
       "    <tr>\n",
       "      <th>2</th>\n",
       "      <td>1 year</td>\n",
       "      <td>A675708</td>\n",
       "      <td>Dog</td>\n",
       "      <td>Pit Bull</td>\n",
       "      <td>Blue/White</td>\n",
       "      <td>2013-03-31T00:00:00</td>\n",
       "      <td>2014-06-03T14:20:00</td>\n",
       "      <td>2014-06-03T14:20:00</td>\n",
       "      <td>*Johnny</td>\n",
       "      <td>NaN</td>\n",
       "      <td>Adoption</td>\n",
       "      <td>Neutered Male</td>\n",
       "    </tr>\n",
       "    <tr>\n",
       "      <th>3</th>\n",
       "      <td>9 years</td>\n",
       "      <td>A680386</td>\n",
       "      <td>Dog</td>\n",
       "      <td>Miniature Schnauzer Mix</td>\n",
       "      <td>White</td>\n",
       "      <td>2005-06-02T00:00:00</td>\n",
       "      <td>2014-06-15T15:50:00</td>\n",
       "      <td>2014-06-15T15:50:00</td>\n",
       "      <td>Monday</td>\n",
       "      <td>Partner</td>\n",
       "      <td>Transfer</td>\n",
       "      <td>Neutered Male</td>\n",
       "    </tr>\n",
       "    <tr>\n",
       "      <th>4</th>\n",
       "      <td>5 months</td>\n",
       "      <td>A683115</td>\n",
       "      <td>Other</td>\n",
       "      <td>Bat Mix</td>\n",
       "      <td>Brown</td>\n",
       "      <td>2014-01-07T00:00:00</td>\n",
       "      <td>2014-07-07T14:04:00</td>\n",
       "      <td>2014-07-07T14:04:00</td>\n",
       "      <td>NaN</td>\n",
       "      <td>Rabies Risk</td>\n",
       "      <td>Euthanasia</td>\n",
       "      <td>Unknown</td>\n",
       "    </tr>\n",
       "  </tbody>\n",
       "</table>\n",
       "</div>"
      ],
      "text/plain": [
       "  age_upon_outcome animal_id animal_type                    breed  \\\n",
       "0          2 weeks   A684346         Cat   Domestic Shorthair Mix   \n",
       "1           1 year   A666430         Dog               Beagle Mix   \n",
       "2           1 year   A675708         Dog                 Pit Bull   \n",
       "3          9 years   A680386         Dog  Miniature Schnauzer Mix   \n",
       "4         5 months   A683115       Other                  Bat Mix   \n",
       "\n",
       "          color        date_of_birth             datetime  \\\n",
       "0  Orange Tabby  2014-07-07T00:00:00  2014-07-22T16:04:00   \n",
       "1   White/Brown  2012-11-06T00:00:00  2013-11-07T11:47:00   \n",
       "2    Blue/White  2013-03-31T00:00:00  2014-06-03T14:20:00   \n",
       "3         White  2005-06-02T00:00:00  2014-06-15T15:50:00   \n",
       "4         Brown  2014-01-07T00:00:00  2014-07-07T14:04:00   \n",
       "\n",
       "             monthyear     name outcome_subtype outcome_type sex_upon_outcome  \n",
       "0  2014-07-22T16:04:00      NaN         Partner     Transfer      Intact Male  \n",
       "1  2013-11-07T11:47:00     Lucy         Partner     Transfer    Spayed Female  \n",
       "2  2014-06-03T14:20:00  *Johnny             NaN     Adoption    Neutered Male  \n",
       "3  2014-06-15T15:50:00   Monday         Partner     Transfer    Neutered Male  \n",
       "4  2014-07-07T14:04:00      NaN     Rabies Risk   Euthanasia          Unknown  "
      ]
     },
     "execution_count": 32,
     "metadata": {},
     "output_type": "execute_result"
    }
   ],
   "source": [
    "outcomes.head()"
   ]
  },
  {
   "cell_type": "code",
   "execution_count": 33,
   "id": "04541624",
   "metadata": {},
   "outputs": [
    {
     "data": {
      "text/html": [
       "<div>\n",
       "<style scoped>\n",
       "    .dataframe tbody tr th:only-of-type {\n",
       "        vertical-align: middle;\n",
       "    }\n",
       "\n",
       "    .dataframe tbody tr th {\n",
       "        vertical-align: top;\n",
       "    }\n",
       "\n",
       "    .dataframe thead th {\n",
       "        text-align: right;\n",
       "    }\n",
       "</style>\n",
       "<table border=\"1\" class=\"dataframe\">\n",
       "  <thead>\n",
       "    <tr style=\"text-align: right;\">\n",
       "      <th></th>\n",
       "      <th>age_upon_outcome</th>\n",
       "      <th>animal_id_outcome</th>\n",
       "      <th>date_of_birth</th>\n",
       "      <th>outcome_subtype</th>\n",
       "      <th>outcome_type</th>\n",
       "      <th>sex_upon_outcome</th>\n",
       "      <th>age_upon_outcome_(days)</th>\n",
       "      <th>age_upon_outcome_(years)</th>\n",
       "      <th>age_upon_outcome_age_group</th>\n",
       "      <th>outcome_datetime</th>\n",
       "      <th>...</th>\n",
       "      <th>age_upon_intake_age_group</th>\n",
       "      <th>intake_datetime</th>\n",
       "      <th>intake_month</th>\n",
       "      <th>intake_year</th>\n",
       "      <th>intake_monthyear</th>\n",
       "      <th>intake_weekday</th>\n",
       "      <th>intake_hour</th>\n",
       "      <th>intake_number</th>\n",
       "      <th>time_in_shelter</th>\n",
       "      <th>time_in_shelter_days</th>\n",
       "    </tr>\n",
       "  </thead>\n",
       "  <tbody>\n",
       "    <tr>\n",
       "      <th>0</th>\n",
       "      <td>10 years</td>\n",
       "      <td>A006100</td>\n",
       "      <td>2007-07-09 00:00:00</td>\n",
       "      <td>NaN</td>\n",
       "      <td>Return to Owner</td>\n",
       "      <td>Neutered Male</td>\n",
       "      <td>3650</td>\n",
       "      <td>10.0</td>\n",
       "      <td>(7.5, 10.0]</td>\n",
       "      <td>2017-12-07 14:07:00</td>\n",
       "      <td>...</td>\n",
       "      <td>(7.5, 10.0]</td>\n",
       "      <td>2017-12-07 00:00:00</td>\n",
       "      <td>12</td>\n",
       "      <td>2017</td>\n",
       "      <td>2017-12</td>\n",
       "      <td>Thursday</td>\n",
       "      <td>14</td>\n",
       "      <td>1.0</td>\n",
       "      <td>0 days 14:07:00.000000000</td>\n",
       "      <td>0.588194</td>\n",
       "    </tr>\n",
       "    <tr>\n",
       "      <th>1</th>\n",
       "      <td>7 years</td>\n",
       "      <td>A006100</td>\n",
       "      <td>2007-07-09 00:00:00</td>\n",
       "      <td>NaN</td>\n",
       "      <td>Return to Owner</td>\n",
       "      <td>Neutered Male</td>\n",
       "      <td>2555</td>\n",
       "      <td>7.0</td>\n",
       "      <td>(5.0, 7.5]</td>\n",
       "      <td>2014-12-20 16:35:00</td>\n",
       "      <td>...</td>\n",
       "      <td>(5.0, 7.5]</td>\n",
       "      <td>2014-12-19 10:21:00</td>\n",
       "      <td>12</td>\n",
       "      <td>2014</td>\n",
       "      <td>2014-12</td>\n",
       "      <td>Friday</td>\n",
       "      <td>10</td>\n",
       "      <td>2.0</td>\n",
       "      <td>1 days 06:14:00.000000000</td>\n",
       "      <td>1.259722</td>\n",
       "    </tr>\n",
       "    <tr>\n",
       "      <th>2</th>\n",
       "      <td>6 years</td>\n",
       "      <td>A006100</td>\n",
       "      <td>2007-07-09 00:00:00</td>\n",
       "      <td>NaN</td>\n",
       "      <td>Return to Owner</td>\n",
       "      <td>Neutered Male</td>\n",
       "      <td>2190</td>\n",
       "      <td>6.0</td>\n",
       "      <td>(5.0, 7.5]</td>\n",
       "      <td>2014-03-08 17:10:00</td>\n",
       "      <td>...</td>\n",
       "      <td>(5.0, 7.5]</td>\n",
       "      <td>2014-03-07 14:26:00</td>\n",
       "      <td>3</td>\n",
       "      <td>2014</td>\n",
       "      <td>2014-03</td>\n",
       "      <td>Friday</td>\n",
       "      <td>14</td>\n",
       "      <td>3.0</td>\n",
       "      <td>1 days 02:44:00.000000000</td>\n",
       "      <td>1.113889</td>\n",
       "    </tr>\n",
       "    <tr>\n",
       "      <th>3</th>\n",
       "      <td>10 years</td>\n",
       "      <td>A047759</td>\n",
       "      <td>2004-04-02 00:00:00</td>\n",
       "      <td>Partner</td>\n",
       "      <td>Transfer</td>\n",
       "      <td>Neutered Male</td>\n",
       "      <td>3650</td>\n",
       "      <td>10.0</td>\n",
       "      <td>(7.5, 10.0]</td>\n",
       "      <td>2014-04-07 15:12:00</td>\n",
       "      <td>...</td>\n",
       "      <td>(7.5, 10.0]</td>\n",
       "      <td>2014-04-02 15:55:00</td>\n",
       "      <td>4</td>\n",
       "      <td>2014</td>\n",
       "      <td>2014-04</td>\n",
       "      <td>Wednesday</td>\n",
       "      <td>15</td>\n",
       "      <td>1.0</td>\n",
       "      <td>4 days 23:17:00.000000000</td>\n",
       "      <td>4.970139</td>\n",
       "    </tr>\n",
       "    <tr>\n",
       "      <th>4</th>\n",
       "      <td>16 years</td>\n",
       "      <td>A134067</td>\n",
       "      <td>1997-10-16 00:00:00</td>\n",
       "      <td>NaN</td>\n",
       "      <td>Return to Owner</td>\n",
       "      <td>Neutered Male</td>\n",
       "      <td>5840</td>\n",
       "      <td>16.0</td>\n",
       "      <td>(15.0, 17.5]</td>\n",
       "      <td>2013-11-16 11:54:00</td>\n",
       "      <td>...</td>\n",
       "      <td>(15.0, 17.5]</td>\n",
       "      <td>2013-11-16 09:02:00</td>\n",
       "      <td>11</td>\n",
       "      <td>2013</td>\n",
       "      <td>2013-11</td>\n",
       "      <td>Saturday</td>\n",
       "      <td>9</td>\n",
       "      <td>1.0</td>\n",
       "      <td>0 days 02:52:00.000000000</td>\n",
       "      <td>0.119444</td>\n",
       "    </tr>\n",
       "  </tbody>\n",
       "</table>\n",
       "<p>5 rows × 41 columns</p>\n",
       "</div>"
      ],
      "text/plain": [
       "  age_upon_outcome animal_id_outcome        date_of_birth outcome_subtype  \\\n",
       "0         10 years           A006100  2007-07-09 00:00:00             NaN   \n",
       "1          7 years           A006100  2007-07-09 00:00:00             NaN   \n",
       "2          6 years           A006100  2007-07-09 00:00:00             NaN   \n",
       "3         10 years           A047759  2004-04-02 00:00:00         Partner   \n",
       "4         16 years           A134067  1997-10-16 00:00:00             NaN   \n",
       "\n",
       "      outcome_type sex_upon_outcome  age_upon_outcome_(days)  \\\n",
       "0  Return to Owner    Neutered Male                     3650   \n",
       "1  Return to Owner    Neutered Male                     2555   \n",
       "2  Return to Owner    Neutered Male                     2190   \n",
       "3         Transfer    Neutered Male                     3650   \n",
       "4  Return to Owner    Neutered Male                     5840   \n",
       "\n",
       "   age_upon_outcome_(years) age_upon_outcome_age_group     outcome_datetime  \\\n",
       "0                      10.0                (7.5, 10.0]  2017-12-07 14:07:00   \n",
       "1                       7.0                 (5.0, 7.5]  2014-12-20 16:35:00   \n",
       "2                       6.0                 (5.0, 7.5]  2014-03-08 17:10:00   \n",
       "3                      10.0                (7.5, 10.0]  2014-04-07 15:12:00   \n",
       "4                      16.0               (15.0, 17.5]  2013-11-16 11:54:00   \n",
       "\n",
       "   ...  age_upon_intake_age_group      intake_datetime intake_month  \\\n",
       "0  ...                (7.5, 10.0]  2017-12-07 00:00:00           12   \n",
       "1  ...                 (5.0, 7.5]  2014-12-19 10:21:00           12   \n",
       "2  ...                 (5.0, 7.5]  2014-03-07 14:26:00            3   \n",
       "3  ...                (7.5, 10.0]  2014-04-02 15:55:00            4   \n",
       "4  ...               (15.0, 17.5]  2013-11-16 09:02:00           11   \n",
       "\n",
       "  intake_year  intake_monthyear  intake_weekday  intake_hour  intake_number  \\\n",
       "0        2017           2017-12        Thursday           14            1.0   \n",
       "1        2014           2014-12          Friday           10            2.0   \n",
       "2        2014           2014-03          Friday           14            3.0   \n",
       "3        2014           2014-04       Wednesday           15            1.0   \n",
       "4        2013           2013-11        Saturday            9            1.0   \n",
       "\n",
       "             time_in_shelter time_in_shelter_days  \n",
       "0  0 days 14:07:00.000000000             0.588194  \n",
       "1  1 days 06:14:00.000000000             1.259722  \n",
       "2  1 days 02:44:00.000000000             1.113889  \n",
       "3  4 days 23:17:00.000000000             4.970139  \n",
       "4  0 days 02:52:00.000000000             0.119444  \n",
       "\n",
       "[5 rows x 41 columns]"
      ]
     },
     "execution_count": 33,
     "metadata": {},
     "output_type": "execute_result"
    }
   ],
   "source": [
    "intakes_outcomes.head()"
   ]
  },
  {
   "cell_type": "code",
   "execution_count": 34,
   "id": "bfa994de",
   "metadata": {},
   "outputs": [
    {
     "data": {
      "text/plain": [
       "0"
      ]
     },
     "execution_count": 34,
     "metadata": {},
     "output_type": "execute_result"
    }
   ],
   "source": [
    "# check to see if there are any instances in intakes_outcomes where animal_id_intake and animal_id_outcome differ, just to understand the data a bit better\n",
    "intakes_outcomes[intakes_outcomes['animal_id_outcome']!=intakes_outcomes['animal_id_intake']].size"
   ]
  },
  {
   "cell_type": "code",
   "execution_count": 36,
   "id": "315982be",
   "metadata": {},
   "outputs": [
    {
     "data": {
      "text/plain": [
       "age_upon_intake     80187\n",
       "animal_id           80187\n",
       "animal_type         80187\n",
       "breed               80187\n",
       "color               80187\n",
       "datetime            80187\n",
       "datetime2           80187\n",
       "found_location      80187\n",
       "intake_condition    80187\n",
       "intake_type         80187\n",
       "name                55603\n",
       "sex_upon_intake     80186\n",
       "dtype: int64"
      ]
     },
     "execution_count": 36,
     "metadata": {},
     "output_type": "execute_result"
    }
   ],
   "source": [
    "# check which items have missing data\n",
    "intakes.count()"
   ]
  },
  {
   "cell_type": "code",
   "execution_count": 38,
   "id": "738d63c2",
   "metadata": {},
   "outputs": [
    {
     "data": {
      "text/html": [
       "<div>\n",
       "<style scoped>\n",
       "    .dataframe tbody tr th:only-of-type {\n",
       "        vertical-align: middle;\n",
       "    }\n",
       "\n",
       "    .dataframe tbody tr th {\n",
       "        vertical-align: top;\n",
       "    }\n",
       "\n",
       "    .dataframe thead th {\n",
       "        text-align: right;\n",
       "    }\n",
       "</style>\n",
       "<table border=\"1\" class=\"dataframe\">\n",
       "  <thead>\n",
       "    <tr style=\"text-align: right;\">\n",
       "      <th></th>\n",
       "      <th>age_upon_intake</th>\n",
       "      <th>animal_id</th>\n",
       "      <th>animal_type</th>\n",
       "      <th>breed</th>\n",
       "      <th>color</th>\n",
       "      <th>datetime</th>\n",
       "      <th>datetime2</th>\n",
       "      <th>found_location</th>\n",
       "      <th>intake_condition</th>\n",
       "      <th>intake_type</th>\n",
       "      <th>name</th>\n",
       "      <th>sex_upon_intake</th>\n",
       "    </tr>\n",
       "  </thead>\n",
       "  <tbody>\n",
       "    <tr>\n",
       "      <th>13715</th>\n",
       "      <td>7 years</td>\n",
       "      <td>A667395</td>\n",
       "      <td>Dog</td>\n",
       "      <td>Dachshund</td>\n",
       "      <td>Brown Merle</td>\n",
       "      <td>2013-11-17T13:15:00.000</td>\n",
       "      <td>2013-11-17T13:15:00.000</td>\n",
       "      <td>Pflugerville (TX)</td>\n",
       "      <td>Normal</td>\n",
       "      <td>Owner Surrender</td>\n",
       "      <td>Diego</td>\n",
       "      <td>NaN</td>\n",
       "    </tr>\n",
       "  </tbody>\n",
       "</table>\n",
       "</div>"
      ],
      "text/plain": [
       "      age_upon_intake animal_id animal_type      breed        color  \\\n",
       "13715         7 years   A667395         Dog  Dachshund  Brown Merle   \n",
       "\n",
       "                      datetime                datetime2     found_location  \\\n",
       "13715  2013-11-17T13:15:00.000  2013-11-17T13:15:00.000  Pflugerville (TX)   \n",
       "\n",
       "      intake_condition      intake_type   name sex_upon_intake  \n",
       "13715           Normal  Owner Surrender  Diego             NaN  "
      ]
     },
     "execution_count": 38,
     "metadata": {},
     "output_type": "execute_result"
    }
   ],
   "source": [
    "# out of curiosity, check for entry with missing data in sex_upon_intake\n",
    "intakes[intakes.sex_upon_intake.isna()].head()"
   ]
  },
  {
   "cell_type": "code",
   "execution_count": 41,
   "id": "e334b550",
   "metadata": {},
   "outputs": [
    {
     "data": {
      "text/plain": [
       "age_upon_outcome    80673\n",
       "animal_id           80681\n",
       "animal_type         80681\n",
       "breed               80681\n",
       "color               80681\n",
       "date_of_birth       80681\n",
       "datetime            80681\n",
       "monthyear           80681\n",
       "name                56116\n",
       "outcome_subtype     36893\n",
       "outcome_type        80667\n",
       "sex_upon_outcome    80679\n",
       "dtype: int64"
      ]
     },
     "execution_count": 41,
     "metadata": {},
     "output_type": "execute_result"
    }
   ],
   "source": [
    "outcomes.count()"
   ]
  },
  {
   "cell_type": "code",
   "execution_count": 42,
   "id": "88d66e5e",
   "metadata": {},
   "outputs": [
    {
     "data": {
      "text/plain": [
       "age_upon_outcome              79672\n",
       "animal_id_outcome             79672\n",
       "date_of_birth                 79672\n",
       "outcome_subtype               36348\n",
       "outcome_type                  79662\n",
       "sex_upon_outcome              79671\n",
       "age_upon_outcome_(days)       79672\n",
       "age_upon_outcome_(years)      79672\n",
       "age_upon_outcome_age_group    79672\n",
       "outcome_datetime              79672\n",
       "outcome_month                 79672\n",
       "outcome_year                  79672\n",
       "outcome_monthyear             79672\n",
       "outcome_weekday               79672\n",
       "outcome_hour                  79672\n",
       "outcome_number                79672\n",
       "dob_year                      79672\n",
       "dob_month                     79672\n",
       "dob_monthyear                 79672\n",
       "age_upon_intake               79672\n",
       "animal_id_intake              79672\n",
       "animal_type                   79672\n",
       "breed                         79672\n",
       "color                         79672\n",
       "found_location                79672\n",
       "intake_condition              79672\n",
       "intake_type                   79672\n",
       "sex_upon_intake               79671\n",
       "count                         79672\n",
       "age_upon_intake_(days)        79672\n",
       "age_upon_intake_(years)       79672\n",
       "age_upon_intake_age_group     79672\n",
       "intake_datetime               79672\n",
       "intake_month                  79672\n",
       "intake_year                   79672\n",
       "intake_monthyear              79672\n",
       "intake_weekday                79672\n",
       "intake_hour                   79672\n",
       "intake_number                 79672\n",
       "time_in_shelter               79672\n",
       "time_in_shelter_days          79672\n",
       "dtype: int64"
      ]
     },
     "execution_count": 42,
     "metadata": {},
     "output_type": "execute_result"
    }
   ],
   "source": [
    "intakes_outcomes.count()"
   ]
  },
  {
   "cell_type": "markdown",
   "id": "51900b8e",
   "metadata": {},
   "source": [
    "## Cleaning the Data"
   ]
  },
  {
   "cell_type": "code",
   "execution_count": 43,
   "id": "2af8dbf3",
   "metadata": {},
   "outputs": [],
   "source": [
    "# remove duplicates from each dataset\n",
    "intakes.drop_duplicates(keep='last', inplace=True)\n",
    "outcomes.drop_duplicates(keep='last', inplace=True)\n",
    "intakes_outcomes.drop_duplicates(keep='last', inplace=True)"
   ]
  },
  {
   "cell_type": "code",
   "execution_count": 44,
   "id": "f227a382",
   "metadata": {},
   "outputs": [
    {
     "data": {
      "text/plain": [
       "(80161, 80671, 79637)"
      ]
     },
     "execution_count": 44,
     "metadata": {},
     "output_type": "execute_result"
    }
   ],
   "source": [
    "# check to see how many entries remain\n",
    "#len(intakes_unique), len(outcomes_unique), len(intakes_outcomes_unique)\n",
    "len(intakes), len(outcomes), len(intakes_outcomes)"
   ]
  },
  {
   "cell_type": "code",
   "execution_count": 46,
   "id": "0633e51e",
   "metadata": {},
   "outputs": [
    {
     "data": {
      "text/plain": [
       "age_upon_intake             object\n",
       "animal_id                   object\n",
       "animal_type                 object\n",
       "breed                       object\n",
       "color                       object\n",
       "datetime            datetime64[ns]\n",
       "datetime2           datetime64[ns]\n",
       "found_location              object\n",
       "intake_condition            object\n",
       "intake_type                 object\n",
       "name                        object\n",
       "sex_upon_intake             object\n",
       "dtype: object"
      ]
     },
     "execution_count": 46,
     "metadata": {},
     "output_type": "execute_result"
    }
   ],
   "source": [
    "# convert datetime fields to datetime data type\n",
    "intakes['datetime'] = pd.to_datetime(intakes['datetime'])\n",
    "intakes['datetime2'] = pd.to_datetime(intakes['datetime2'])\n",
    "intakes.dtypes"
   ]
  },
  {
   "cell_type": "code",
   "execution_count": 48,
   "id": "69055106",
   "metadata": {},
   "outputs": [
    {
     "data": {
      "text/plain": [
       "Timedelta('0 days 00:00:00')"
      ]
     },
     "execution_count": 48,
     "metadata": {},
     "output_type": "execute_result"
    }
   ],
   "source": [
    "#check to see if there datetime and datetime2 in intakes are identical\n",
    "(intakes['datetime']-intakes['datetime2']).sum()"
   ]
  },
  {
   "cell_type": "code",
   "execution_count": 53,
   "id": "143687f3",
   "metadata": {
    "scrolled": true
   },
   "outputs": [
    {
     "data": {
      "text/html": [
       "<div>\n",
       "<style scoped>\n",
       "    .dataframe tbody tr th:only-of-type {\n",
       "        vertical-align: middle;\n",
       "    }\n",
       "\n",
       "    .dataframe tbody tr th {\n",
       "        vertical-align: top;\n",
       "    }\n",
       "\n",
       "    .dataframe thead th {\n",
       "        text-align: right;\n",
       "    }\n",
       "</style>\n",
       "<table border=\"1\" class=\"dataframe\">\n",
       "  <thead>\n",
       "    <tr style=\"text-align: right;\">\n",
       "      <th></th>\n",
       "      <th>age_upon_intake</th>\n",
       "      <th>animal_id</th>\n",
       "      <th>animal_type</th>\n",
       "      <th>breed</th>\n",
       "      <th>color</th>\n",
       "      <th>datetime</th>\n",
       "      <th>datetime2</th>\n",
       "      <th>found_location</th>\n",
       "      <th>intake_condition</th>\n",
       "      <th>intake_type</th>\n",
       "      <th>name</th>\n",
       "      <th>sex_upon_intake</th>\n",
       "      <th>month</th>\n",
       "      <th>year</th>\n",
       "    </tr>\n",
       "  </thead>\n",
       "  <tbody>\n",
       "    <tr>\n",
       "      <th>0</th>\n",
       "      <td>8 years</td>\n",
       "      <td>A706918</td>\n",
       "      <td>Dog</td>\n",
       "      <td>English Springer Spaniel</td>\n",
       "      <td>White/Liver</td>\n",
       "      <td>2015-07-05 12:59:00</td>\n",
       "      <td>2015-07-05 12:59:00</td>\n",
       "      <td>9409 Bluegrass Dr in Austin (TX)</td>\n",
       "      <td>Normal</td>\n",
       "      <td>Stray</td>\n",
       "      <td>Belle</td>\n",
       "      <td>Spayed Female</td>\n",
       "      <td>7</td>\n",
       "      <td>2015</td>\n",
       "    </tr>\n",
       "    <tr>\n",
       "      <th>1</th>\n",
       "      <td>11 months</td>\n",
       "      <td>A724273</td>\n",
       "      <td>Dog</td>\n",
       "      <td>Basenji Mix</td>\n",
       "      <td>Sable/White</td>\n",
       "      <td>2016-04-14 18:43:00</td>\n",
       "      <td>2016-04-14 18:43:00</td>\n",
       "      <td>2818 Palomino Trail in Austin (TX)</td>\n",
       "      <td>Normal</td>\n",
       "      <td>Stray</td>\n",
       "      <td>Runster</td>\n",
       "      <td>Intact Male</td>\n",
       "      <td>4</td>\n",
       "      <td>2016</td>\n",
       "    </tr>\n",
       "  </tbody>\n",
       "</table>\n",
       "</div>"
      ],
      "text/plain": [
       "  age_upon_intake animal_id animal_type                     breed  \\\n",
       "0         8 years   A706918         Dog  English Springer Spaniel   \n",
       "1       11 months   A724273         Dog               Basenji Mix   \n",
       "\n",
       "         color            datetime           datetime2  \\\n",
       "0  White/Liver 2015-07-05 12:59:00 2015-07-05 12:59:00   \n",
       "1  Sable/White 2016-04-14 18:43:00 2016-04-14 18:43:00   \n",
       "\n",
       "                       found_location intake_condition intake_type     name  \\\n",
       "0    9409 Bluegrass Dr in Austin (TX)           Normal       Stray    Belle   \n",
       "1  2818 Palomino Trail in Austin (TX)           Normal       Stray  Runster   \n",
       "\n",
       "  sex_upon_intake  month  year  \n",
       "0   Spayed Female      7  2015  \n",
       "1     Intact Male      4  2016  "
      ]
     },
     "execution_count": 53,
     "metadata": {},
     "output_type": "execute_result"
    }
   ],
   "source": [
    "# separate the date and add new columns for month and year to allow calculations\n",
    "intakes['month'] = intakes['datetime'].dt.month\n",
    "intakes['year'] = intakes['datetime'].dt.year\n",
    "#check\n",
    "intakes.head(2)"
   ]
  },
  {
   "cell_type": "code",
   "execution_count": 51,
   "id": "60eba962",
   "metadata": {},
   "outputs": [],
   "source": [
    "# assign value for entry with missing data in sex_upon_intake\n",
    "intakes['sex_upon_intake'] = intakes['sex_upon_intake'].fillna('Unknown')\n",
    "intakes_outcomes['sex_upon_intake'] = intakes_outcomes['sex_upon_intake'].fillna('Unknown')"
   ]
  },
  {
   "cell_type": "code",
   "execution_count": 55,
   "id": "0a29132a",
   "metadata": {},
   "outputs": [],
   "source": [
    "#outcomes['age_upon_outcome'] = outcomes['age_upon_outcome'].astype('int')"
   ]
  },
  {
   "cell_type": "markdown",
   "id": "e1e3039a",
   "metadata": {},
   "source": [
    "## 1. Is there an area where more pets are found?\n",
    "Find the top 5 places where animals are found so the shelter can coordiante with local volunteers and animal control to monitor these areas. Hint: Try to group the found locations together.\n",
    "\n",
    "Approach: For this question, I grouped the intakes data by 'found_location', determined the counts based on 'found_location', sorted by the counts to determine locations with most pickups, and then took the top 5."
   ]
  },
  {
   "cell_type": "code",
   "execution_count": 56,
   "id": "46a994d8",
   "metadata": {},
   "outputs": [
    {
     "data": {
      "text/html": [
       "<div>\n",
       "<style scoped>\n",
       "    .dataframe tbody tr th:only-of-type {\n",
       "        vertical-align: middle;\n",
       "    }\n",
       "\n",
       "    .dataframe tbody tr th {\n",
       "        vertical-align: top;\n",
       "    }\n",
       "\n",
       "    .dataframe thead th {\n",
       "        text-align: right;\n",
       "    }\n",
       "</style>\n",
       "<table border=\"1\" class=\"dataframe\">\n",
       "  <thead>\n",
       "    <tr style=\"text-align: right;\">\n",
       "      <th></th>\n",
       "      <th>found_location</th>\n",
       "      <th>pickupcount</th>\n",
       "    </tr>\n",
       "  </thead>\n",
       "  <tbody>\n",
       "    <tr>\n",
       "      <th>25970</th>\n",
       "      <td>Austin (TX)</td>\n",
       "      <td>14437</td>\n",
       "    </tr>\n",
       "    <tr>\n",
       "      <th>32692</th>\n",
       "      <td>Outside Jurisdiction</td>\n",
       "      <td>948</td>\n",
       "    </tr>\n",
       "    <tr>\n",
       "      <th>35512</th>\n",
       "      <td>Travis (TX)</td>\n",
       "      <td>921</td>\n",
       "    </tr>\n",
       "    <tr>\n",
       "      <th>21133</th>\n",
       "      <td>7201 Levander Loop in Austin (TX)</td>\n",
       "      <td>517</td>\n",
       "    </tr>\n",
       "    <tr>\n",
       "      <th>27901</th>\n",
       "      <td>Del Valle (TX)</td>\n",
       "      <td>411</td>\n",
       "    </tr>\n",
       "  </tbody>\n",
       "</table>\n",
       "</div>"
      ],
      "text/plain": [
       "                          found_location  pickupcount\n",
       "25970                        Austin (TX)        14437\n",
       "32692               Outside Jurisdiction          948\n",
       "35512                        Travis (TX)          921\n",
       "21133  7201 Levander Loop in Austin (TX)          517\n",
       "27901                     Del Valle (TX)          411"
      ]
     },
     "execution_count": 56,
     "metadata": {},
     "output_type": "execute_result"
    }
   ],
   "source": [
    "intakes.groupby('found_location').size().reset_index(name='pickupcount').sort_values(['pickupcount'],ascending=False).head(5)"
   ]
  },
  {
   "cell_type": "markdown",
   "id": "371abc1c",
   "metadata": {},
   "source": [
    "The data needs to be specific enough that local volunteers can target an area, so 'Austin' and 'Outside Jurisdiction' are too broad. To focus on found locations with street numbers, I'll search for entries containing a number. Chances are if there are many pick ups at one address, then adjacent areas will also be of interest."
   ]
  },
  {
   "cell_type": "code",
   "execution_count": 57,
   "id": "5d2cdaba",
   "metadata": {},
   "outputs": [
    {
     "data": {
      "text/html": [
       "<div>\n",
       "<style scoped>\n",
       "    .dataframe tbody tr th:only-of-type {\n",
       "        vertical-align: middle;\n",
       "    }\n",
       "\n",
       "    .dataframe tbody tr th {\n",
       "        vertical-align: top;\n",
       "    }\n",
       "\n",
       "    .dataframe thead th {\n",
       "        text-align: right;\n",
       "    }\n",
       "</style>\n",
       "<table border=\"1\" class=\"dataframe\">\n",
       "  <thead>\n",
       "    <tr style=\"text-align: right;\">\n",
       "      <th></th>\n",
       "      <th>found_location</th>\n",
       "      <th>pickupcount</th>\n",
       "    </tr>\n",
       "  </thead>\n",
       "  <tbody>\n",
       "    <tr>\n",
       "      <th>21132</th>\n",
       "      <td>7201 Levander Loop in Austin (TX)</td>\n",
       "      <td>517</td>\n",
       "    </tr>\n",
       "    <tr>\n",
       "      <th>14955</th>\n",
       "      <td>4434 Frontier Trl in Austin (TX)</td>\n",
       "      <td>163</td>\n",
       "    </tr>\n",
       "    <tr>\n",
       "      <th>3960</th>\n",
       "      <td>124 W Anderson Ln in Austin (TX)</td>\n",
       "      <td>153</td>\n",
       "    </tr>\n",
       "    <tr>\n",
       "      <th>2519</th>\n",
       "      <td>1156 W Cesar Chavez in Austin (TX)</td>\n",
       "      <td>98</td>\n",
       "    </tr>\n",
       "    <tr>\n",
       "      <th>3315</th>\n",
       "      <td>12034 Research Blvd in Austin (TX)</td>\n",
       "      <td>98</td>\n",
       "    </tr>\n",
       "  </tbody>\n",
       "</table>\n",
       "</div>"
      ],
      "text/plain": [
       "                           found_location  pickupcount\n",
       "21132   7201 Levander Loop in Austin (TX)          517\n",
       "14955    4434 Frontier Trl in Austin (TX)          163\n",
       "3960     124 W Anderson Ln in Austin (TX)          153\n",
       "2519   1156 W Cesar Chavez in Austin (TX)           98\n",
       "3315   12034 Research Blvd in Austin (TX)           98"
      ]
     },
     "execution_count": 57,
     "metadata": {},
     "output_type": "execute_result"
    }
   ],
   "source": [
    "intakes[intakes['found_location'].str.contains('1|2|3|4|5|6|7|8|9|0')].groupby('found_location').size().reset_index(name='pickupcount').sort_values(['pickupcount'],ascending=False).head(5)"
   ]
  },
  {
   "cell_type": "markdown",
   "id": "109febf0",
   "metadata": {},
   "source": [
    "### Final Answer: \n",
    "The five most common pick up locations that are specific enough that the shelter would be able to deploy volunteers to a certain area are listed above. "
   ]
  },
  {
   "cell_type": "markdown",
   "id": "145e7515",
   "metadata": {},
   "source": [
    "## 2. What is the average number of pets found in a month in the year 2015? Are there months where there is a higher number of animals found?\n",
    "Approach 1: Using intakes, I will filter the datetime field for 2015 and create a new dataframe called tfintakes (twenty-fifteen intakes). Then I will sum up animals taken in and divide by 12. Then I will group them by month and sort descending. I determined (above) that datetime and datetime1 are identical, so I will use datetime.\n"
   ]
  },
  {
   "cell_type": "code",
   "execution_count": 58,
   "id": "af900268",
   "metadata": {},
   "outputs": [
    {
     "data": {
      "text/plain": [
       "18676"
      ]
     },
     "execution_count": 58,
     "metadata": {},
     "output_type": "execute_result"
    }
   ],
   "source": [
    "#sort by dates so only intakes from 2015 are returned\n",
    "tfintakes = intakes[(intakes['datetime'] >= pd.Timestamp(2015,1,1)) & (intakes['datetime'] <= pd.Timestamp(2015,12,31))]\n",
    "#check the length to make sure the answer is reasonable\n",
    "len(tfintakes)\n",
    "# consider adding index reset to tfintakes"
   ]
  },
  {
   "cell_type": "code",
   "execution_count": 61,
   "id": "a69a3def",
   "metadata": {},
   "outputs": [
    {
     "data": {
      "text/plain": [
       "1556"
      ]
     },
     "execution_count": 61,
     "metadata": {},
     "output_type": "execute_result"
    }
   ],
   "source": [
    "# to calculate average intakes per month, divide number of intakes in 2015 by 12 months, rounding to a whole number \n",
    "#      using int to round down to the closest whole number because 0.4 of a dog is a frightening thought!\n",
    "int(len(tfintakes)/12)"
   ]
  },
  {
   "cell_type": "code",
   "execution_count": 62,
   "id": "8ff5dc05",
   "metadata": {},
   "outputs": [
    {
     "data": {
      "text/plain": [
       "month\n",
       "6     2189\n",
       "5     2094\n",
       "10    1740\n",
       "8     1718\n",
       "7     1635\n",
       "9     1591\n",
       "4     1543\n",
       "11    1411\n",
       "3     1345\n",
       "1     1197\n",
       "2     1118\n",
       "12    1095\n",
       "dtype: int64"
      ]
     },
     "execution_count": 62,
     "metadata": {},
     "output_type": "execute_result"
    }
   ],
   "source": [
    "# group the 2015 intakes by month in descending order\n",
    "tfintakes_by_month = tfintakes.groupby('month')\n",
    "tfintakes_by_month.size().sort_values(ascending=False)"
   ]
  },
  {
   "cell_type": "markdown",
   "id": "e589d273",
   "metadata": {},
   "source": [
    "### Final Answer: \n",
    "The average number of pets found in a month in the year 2015 is 1,556. How sad. :(  \n",
    "The months with the most intakes (in descending order) were: June, May, October, August, July, September. The colder months (November, March, January, February, and December [in descending order]) had fewer intakes."
   ]
  },
  {
   "cell_type": "markdown",
   "id": "936e4a22",
   "metadata": {},
   "source": [
    "## 3. What is the ratio of incoming pets vs. adopted pets?\n",
    "This key metric helps the shelter know how they are doing.\n",
    "\n",
    "Approach: For this, I will compare the total number of intakes to the total number of adoptions. For this I will use the intakes_outcomes dataset. Question: Is an Adoption/Foster a true success? Perhaps look at that statistic as well, to only identify the true permanent adoptions."
   ]
  },
  {
   "cell_type": "code",
   "execution_count": 63,
   "id": "dc7a21e0",
   "metadata": {},
   "outputs": [
    {
     "data": {
      "text/plain": [
       "80161"
      ]
     },
     "execution_count": 63,
     "metadata": {},
     "output_type": "execute_result"
    }
   ],
   "source": [
    "# Total number of intakes\n",
    "len(intakes)"
   ]
  },
  {
   "cell_type": "code",
   "execution_count": 64,
   "id": "bc0bcf02",
   "metadata": {},
   "outputs": [
    {
     "data": {
      "text/plain": [
       "outcome_type\n",
       "Adoption           33583\n",
       "Died                 690\n",
       "Disposal             301\n",
       "Euthanasia          6238\n",
       "Missing               46\n",
       "Relocate              15\n",
       "Return to Owner    14784\n",
       "Rto-Adopt            179\n",
       "Transfer           23791\n",
       "dtype: int64"
      ]
     },
     "execution_count": 64,
     "metadata": {},
     "output_type": "execute_result"
    }
   ],
   "source": [
    "# a look at the different categories of outcome_type\n",
    "intakes_outcomes.groupby('outcome_type').size()"
   ]
  },
  {
   "cell_type": "code",
   "execution_count": 65,
   "id": "44f67c74",
   "metadata": {},
   "outputs": [
    {
     "data": {
      "text/plain": [
       "outcome_subtype\n",
       "Aggressive               497\n",
       "At Vet                    71\n",
       "Barn                       3\n",
       "Behavior                 133\n",
       "Court/Investigation       23\n",
       "Enroute                   49\n",
       "Foster                  5489\n",
       "In Foster                177\n",
       "In Kennel                351\n",
       "In Surgery                17\n",
       "Medical                  265\n",
       "Offsite                  350\n",
       "Partner                19836\n",
       "Possible Theft             9\n",
       "Rabies Risk             2536\n",
       "SCRP                    3202\n",
       "Snr                      751\n",
       "Suffering               2546\n",
       "Underage                  28\n",
       "dtype: int64"
      ]
     },
     "execution_count": 65,
     "metadata": {},
     "output_type": "execute_result"
    }
   ],
   "source": [
    "# a look at the different categories of outcome_subtype\n",
    "intakes_outcomes.groupby('outcome_subtype').size()"
   ]
  },
  {
   "cell_type": "code",
   "execution_count": 66,
   "id": "742b9225",
   "metadata": {},
   "outputs": [
    {
     "data": {
      "text/html": [
       "<div>\n",
       "<style scoped>\n",
       "    .dataframe tbody tr th:only-of-type {\n",
       "        vertical-align: middle;\n",
       "    }\n",
       "\n",
       "    .dataframe tbody tr th {\n",
       "        vertical-align: top;\n",
       "    }\n",
       "\n",
       "    .dataframe thead th {\n",
       "        text-align: right;\n",
       "    }\n",
       "</style>\n",
       "<table border=\"1\" class=\"dataframe\">\n",
       "  <thead>\n",
       "    <tr style=\"text-align: right;\">\n",
       "      <th></th>\n",
       "      <th>age_upon_outcome</th>\n",
       "      <th>animal_id_outcome</th>\n",
       "      <th>date_of_birth</th>\n",
       "      <th>outcome_subtype</th>\n",
       "      <th>outcome_type</th>\n",
       "      <th>sex_upon_outcome</th>\n",
       "      <th>age_upon_outcome_(days)</th>\n",
       "      <th>age_upon_outcome_(years)</th>\n",
       "      <th>age_upon_outcome_age_group</th>\n",
       "      <th>outcome_datetime</th>\n",
       "      <th>...</th>\n",
       "      <th>age_upon_intake_age_group</th>\n",
       "      <th>intake_datetime</th>\n",
       "      <th>intake_month</th>\n",
       "      <th>intake_year</th>\n",
       "      <th>intake_monthyear</th>\n",
       "      <th>intake_weekday</th>\n",
       "      <th>intake_hour</th>\n",
       "      <th>intake_number</th>\n",
       "      <th>time_in_shelter</th>\n",
       "      <th>time_in_shelter_days</th>\n",
       "    </tr>\n",
       "  </thead>\n",
       "  <tbody>\n",
       "    <tr>\n",
       "      <th>12</th>\n",
       "      <td>16 years</td>\n",
       "      <td>A200922</td>\n",
       "      <td>1997-10-03 00:00:00</td>\n",
       "      <td>Foster</td>\n",
       "      <td>Adoption</td>\n",
       "      <td>Neutered Male</td>\n",
       "      <td>5840</td>\n",
       "      <td>16.0</td>\n",
       "      <td>(15.0, 17.5]</td>\n",
       "      <td>2013-11-22 09:44:00</td>\n",
       "      <td>...</td>\n",
       "      <td>(15.0, 17.5]</td>\n",
       "      <td>2013-10-03 15:47:00</td>\n",
       "      <td>10</td>\n",
       "      <td>2013</td>\n",
       "      <td>2013-10</td>\n",
       "      <td>Thursday</td>\n",
       "      <td>15</td>\n",
       "      <td>1.0</td>\n",
       "      <td>49 days 17:57:00.000000000</td>\n",
       "      <td>49.747917</td>\n",
       "    </tr>\n",
       "    <tr>\n",
       "      <th>14</th>\n",
       "      <td>17 years</td>\n",
       "      <td>A210457</td>\n",
       "      <td>1999-06-01 00:00:00</td>\n",
       "      <td>Foster</td>\n",
       "      <td>Adoption</td>\n",
       "      <td>Neutered Male</td>\n",
       "      <td>6205</td>\n",
       "      <td>17.0</td>\n",
       "      <td>(15.0, 17.5]</td>\n",
       "      <td>2016-10-07 12:34:00</td>\n",
       "      <td>...</td>\n",
       "      <td>(15.0, 17.5]</td>\n",
       "      <td>2016-09-28 12:05:00</td>\n",
       "      <td>9</td>\n",
       "      <td>2016</td>\n",
       "      <td>2016-09</td>\n",
       "      <td>Wednesday</td>\n",
       "      <td>12</td>\n",
       "      <td>1.0</td>\n",
       "      <td>9 days 00:29:00.000000000</td>\n",
       "      <td>9.020139</td>\n",
       "    </tr>\n",
       "    <tr>\n",
       "      <th>22</th>\n",
       "      <td>15 years</td>\n",
       "      <td>A226069</td>\n",
       "      <td>2000-06-17 00:00:00</td>\n",
       "      <td>Foster</td>\n",
       "      <td>Adoption</td>\n",
       "      <td>Neutered Male</td>\n",
       "      <td>5475</td>\n",
       "      <td>15.0</td>\n",
       "      <td>(12.5, 15.0]</td>\n",
       "      <td>2015-10-29 15:00:00</td>\n",
       "      <td>...</td>\n",
       "      <td>(12.5, 15.0]</td>\n",
       "      <td>2015-10-06 12:29:00</td>\n",
       "      <td>10</td>\n",
       "      <td>2015</td>\n",
       "      <td>2015-10</td>\n",
       "      <td>Tuesday</td>\n",
       "      <td>12</td>\n",
       "      <td>1.0</td>\n",
       "      <td>23 days 02:31:00.000000000</td>\n",
       "      <td>23.104861</td>\n",
       "    </tr>\n",
       "    <tr>\n",
       "      <th>32</th>\n",
       "      <td>15 years</td>\n",
       "      <td>A249087</td>\n",
       "      <td>2001-01-02 00:00:00</td>\n",
       "      <td>Foster</td>\n",
       "      <td>Adoption</td>\n",
       "      <td>Spayed Female</td>\n",
       "      <td>5475</td>\n",
       "      <td>15.0</td>\n",
       "      <td>(12.5, 15.0]</td>\n",
       "      <td>2016-11-15 10:37:00</td>\n",
       "      <td>...</td>\n",
       "      <td>(12.5, 15.0]</td>\n",
       "      <td>2016-08-17 14:05:00</td>\n",
       "      <td>8</td>\n",
       "      <td>2016</td>\n",
       "      <td>2016-08</td>\n",
       "      <td>Wednesday</td>\n",
       "      <td>14</td>\n",
       "      <td>1.0</td>\n",
       "      <td>89 days 20:32:00.000000000</td>\n",
       "      <td>89.855556</td>\n",
       "    </tr>\n",
       "    <tr>\n",
       "      <th>48</th>\n",
       "      <td>11 years</td>\n",
       "      <td>A274546</td>\n",
       "      <td>2002-05-25 00:00:00</td>\n",
       "      <td>NaN</td>\n",
       "      <td>Adoption</td>\n",
       "      <td>Spayed Female</td>\n",
       "      <td>4015</td>\n",
       "      <td>11.0</td>\n",
       "      <td>(10.0, 12.5]</td>\n",
       "      <td>2013-11-16 12:24:00</td>\n",
       "      <td>...</td>\n",
       "      <td>(10.0, 12.5]</td>\n",
       "      <td>2013-11-13 18:16:00</td>\n",
       "      <td>11</td>\n",
       "      <td>2013</td>\n",
       "      <td>2013-11</td>\n",
       "      <td>Wednesday</td>\n",
       "      <td>18</td>\n",
       "      <td>1.0</td>\n",
       "      <td>2 days 18:08:00.000000000</td>\n",
       "      <td>2.755556</td>\n",
       "    </tr>\n",
       "  </tbody>\n",
       "</table>\n",
       "<p>5 rows × 41 columns</p>\n",
       "</div>"
      ],
      "text/plain": [
       "   age_upon_outcome animal_id_outcome        date_of_birth outcome_subtype  \\\n",
       "12         16 years           A200922  1997-10-03 00:00:00          Foster   \n",
       "14         17 years           A210457  1999-06-01 00:00:00          Foster   \n",
       "22         15 years           A226069  2000-06-17 00:00:00          Foster   \n",
       "32         15 years           A249087  2001-01-02 00:00:00          Foster   \n",
       "48         11 years           A274546  2002-05-25 00:00:00             NaN   \n",
       "\n",
       "   outcome_type sex_upon_outcome  age_upon_outcome_(days)  \\\n",
       "12     Adoption    Neutered Male                     5840   \n",
       "14     Adoption    Neutered Male                     6205   \n",
       "22     Adoption    Neutered Male                     5475   \n",
       "32     Adoption    Spayed Female                     5475   \n",
       "48     Adoption    Spayed Female                     4015   \n",
       "\n",
       "    age_upon_outcome_(years) age_upon_outcome_age_group     outcome_datetime  \\\n",
       "12                      16.0               (15.0, 17.5]  2013-11-22 09:44:00   \n",
       "14                      17.0               (15.0, 17.5]  2016-10-07 12:34:00   \n",
       "22                      15.0               (12.5, 15.0]  2015-10-29 15:00:00   \n",
       "32                      15.0               (12.5, 15.0]  2016-11-15 10:37:00   \n",
       "48                      11.0               (10.0, 12.5]  2013-11-16 12:24:00   \n",
       "\n",
       "    ...  age_upon_intake_age_group      intake_datetime intake_month  \\\n",
       "12  ...               (15.0, 17.5]  2013-10-03 15:47:00           10   \n",
       "14  ...               (15.0, 17.5]  2016-09-28 12:05:00            9   \n",
       "22  ...               (12.5, 15.0]  2015-10-06 12:29:00           10   \n",
       "32  ...               (12.5, 15.0]  2016-08-17 14:05:00            8   \n",
       "48  ...               (10.0, 12.5]  2013-11-13 18:16:00           11   \n",
       "\n",
       "   intake_year  intake_monthyear  intake_weekday  intake_hour  intake_number  \\\n",
       "12        2013           2013-10        Thursday           15            1.0   \n",
       "14        2016           2016-09       Wednesday           12            1.0   \n",
       "22        2015           2015-10         Tuesday           12            1.0   \n",
       "32        2016           2016-08       Wednesday           14            1.0   \n",
       "48        2013           2013-11       Wednesday           18            1.0   \n",
       "\n",
       "               time_in_shelter time_in_shelter_days  \n",
       "12  49 days 17:57:00.000000000            49.747917  \n",
       "14   9 days 00:29:00.000000000             9.020139  \n",
       "22  23 days 02:31:00.000000000            23.104861  \n",
       "32  89 days 20:32:00.000000000            89.855556  \n",
       "48   2 days 18:08:00.000000000             2.755556  \n",
       "\n",
       "[5 rows x 41 columns]"
      ]
     },
     "execution_count": 66,
     "metadata": {},
     "output_type": "execute_result"
    }
   ],
   "source": [
    "adoptions = intakes_outcomes[intakes_outcomes['outcome_type'] == \"Adoption\"]\n",
    "adoptions.head(5)"
   ]
  },
  {
   "cell_type": "code",
   "execution_count": 67,
   "id": "98c44f95",
   "metadata": {},
   "outputs": [
    {
     "data": {
      "text/plain": [
       "33583"
      ]
     },
     "execution_count": 67,
     "metadata": {},
     "output_type": "execute_result"
    }
   ],
   "source": [
    "len(adoptions)"
   ]
  },
  {
   "cell_type": "code",
   "execution_count": 71,
   "id": "40a4a080",
   "metadata": {},
   "outputs": [
    {
     "data": {
      "text/plain": [
       "2.39"
      ]
     },
     "execution_count": 71,
     "metadata": {},
     "output_type": "execute_result"
    }
   ],
   "source": [
    "ratio_adoptions = len(intakes)/len(adoptions)\n",
    "# round figure to two decimal places\n",
    "round(ratio_adoptions, 2)"
   ]
  },
  {
   "cell_type": "code",
   "execution_count": 73,
   "id": "08d14d19",
   "metadata": {},
   "outputs": [
    {
     "data": {
      "text/plain": [
       "28094"
      ]
     },
     "execution_count": 73,
     "metadata": {},
     "output_type": "execute_result"
    }
   ],
   "source": [
    "# adoptions_4eva is a look at how many are 'permanent' adoptions and not of the Foster subtype\n",
    "adoptions_4eva = intakes_outcomes[(intakes_outcomes['outcome_type'] == \"Adoption\") & (intakes_outcomes['outcome_subtype'] != \"Foster\")]\n",
    "len(adoptions_4eva)"
   ]
  },
  {
   "cell_type": "code",
   "execution_count": 74,
   "id": "67c1ff2e",
   "metadata": {},
   "outputs": [
    {
     "data": {
      "text/plain": [
       "2.85"
      ]
     },
     "execution_count": 74,
     "metadata": {},
     "output_type": "execute_result"
    }
   ],
   "source": [
    "ratio_adoptions_4eva = len(intakes)/len(adoptions_4eva)\n",
    "# round figure to two decimal places\n",
    "round(ratio_adoptions_4eva, 2)"
   ]
  },
  {
   "cell_type": "markdown",
   "id": "6d985512",
   "metadata": {},
   "source": [
    "### Final Answer\n",
    "For every 2.39 pets coming into the shelter, there is 1 'Adoption' outcome.\n",
    "For every 2.85 pets coming into the shelter, there is 1 'Adoption' that is NOT a temporary foster situation."
   ]
  },
  {
   "cell_type": "markdown",
   "id": "d11e645a",
   "metadata": {},
   "source": [
    "## 4. What is the distribution of the types of animals in the shelter?\n",
    "Find the count of each type of animal in the shelter.\n",
    "\n",
    "Approach: Using the intakes dataset, group the animals by type and then find the size to determine counts, sorting in descending order to determine numbers of each type of animal."
   ]
  },
  {
   "cell_type": "code",
   "execution_count": 75,
   "id": "75963c11",
   "metadata": {},
   "outputs": [
    {
     "data": {
      "text/plain": [
       "animal_type\n",
       "Dog          45730\n",
       "Cat          29651\n",
       "Other         4429\n",
       "Bird           342\n",
       "Livestock        9\n",
       "dtype: int64"
      ]
     },
     "execution_count": 75,
     "metadata": {},
     "output_type": "execute_result"
    }
   ],
   "source": [
    "intakes.groupby('animal_type').size().sort_values(ascending=False)"
   ]
  },
  {
   "cell_type": "markdown",
   "id": "877104ef",
   "metadata": {},
   "source": [
    "### Final Answer: \n",
    "Dogs were the most common shelter residents at 45,743; cats were the second most common resident at 29,659. Other animals (wonder what these are...) came in at 4,434; there have been 342 bird residents, and livestock were the least common residents at only 9."
   ]
  },
  {
   "cell_type": "markdown",
   "id": "c885a08e",
   "metadata": {},
   "source": [
    "## 5. What are the adoption rate for specific breeds?\n",
    "Find the top 5 dog breeds in the shelter (based on intake count) and then find the adoption percentage for each breed (based on number of Adoption outcomes for that breed).\n",
    "\n",
    "Approach: First, I will filter the intakes by animal type and then sort by breed count to find the top 5 breeds that are taken in. Then, I will determine the number of adoptions by dog breed. I will combine these dataframes to view the number of adoptions for the top 5 breeds taken in, and then - in this new dataframe - display the calculation of adoption rate for each breed."
   ]
  },
  {
   "cell_type": "code",
   "execution_count": 80,
   "id": "c2537804",
   "metadata": {},
   "outputs": [
    {
     "data": {
      "text/html": [
       "<div>\n",
       "<style scoped>\n",
       "    .dataframe tbody tr th:only-of-type {\n",
       "        vertical-align: middle;\n",
       "    }\n",
       "\n",
       "    .dataframe tbody tr th {\n",
       "        vertical-align: top;\n",
       "    }\n",
       "\n",
       "    .dataframe thead th {\n",
       "        text-align: right;\n",
       "    }\n",
       "</style>\n",
       "<table border=\"1\" class=\"dataframe\">\n",
       "  <thead>\n",
       "    <tr style=\"text-align: right;\">\n",
       "      <th></th>\n",
       "      <th>breed</th>\n",
       "      <th>Number of Intakes</th>\n",
       "    </tr>\n",
       "  </thead>\n",
       "  <tbody>\n",
       "    <tr>\n",
       "      <th>0</th>\n",
       "      <td>Pit Bull Mix</td>\n",
       "      <td>6379</td>\n",
       "    </tr>\n",
       "    <tr>\n",
       "      <th>1</th>\n",
       "      <td>Chihuahua Shorthair Mix</td>\n",
       "      <td>4860</td>\n",
       "    </tr>\n",
       "    <tr>\n",
       "      <th>2</th>\n",
       "      <td>Labrador Retriever Mix</td>\n",
       "      <td>4840</td>\n",
       "    </tr>\n",
       "    <tr>\n",
       "      <th>3</th>\n",
       "      <td>German Shepherd Mix</td>\n",
       "      <td>1963</td>\n",
       "    </tr>\n",
       "    <tr>\n",
       "      <th>4</th>\n",
       "      <td>Australian Cattle Dog Mix</td>\n",
       "      <td>1105</td>\n",
       "    </tr>\n",
       "  </tbody>\n",
       "</table>\n",
       "</div>"
      ],
      "text/plain": [
       "                       breed  Number of Intakes\n",
       "0               Pit Bull Mix               6379\n",
       "1    Chihuahua Shorthair Mix               4860\n",
       "2     Labrador Retriever Mix               4840\n",
       "3        German Shepherd Mix               1963\n",
       "4  Australian Cattle Dog Mix               1105"
      ]
     },
     "execution_count": 80,
     "metadata": {},
     "output_type": "execute_result"
    }
   ],
   "source": [
    "# Top 5 breeds of dog taken in\n",
    "dog_intakes = intakes[intakes['animal_type'] == \"Dog\"].groupby('breed').size().reset_index(name='Number of Intakes').sort_values(by='Number of Intakes', ascending=False).head(5)\n",
    "dog_intakes\n",
    "dog_intakesdf = pd.DataFrame(dog_intakes).reset_index()\n",
    "dog_intakesdf = dog_intakesdf.drop('index', axis=1)\n",
    "dog_intakesdf\n",
    "\n",
    "#intakes.groupby('found_location').size().reset_index(name='pickupcount').sort_values(['pickupcount'],ascending=False).head(5)"
   ]
  },
  {
   "cell_type": "code",
   "execution_count": 81,
   "id": "a2526997",
   "metadata": {},
   "outputs": [
    {
     "data": {
      "text/html": [
       "<div>\n",
       "<style scoped>\n",
       "    .dataframe tbody tr th:only-of-type {\n",
       "        vertical-align: middle;\n",
       "    }\n",
       "\n",
       "    .dataframe tbody tr th {\n",
       "        vertical-align: top;\n",
       "    }\n",
       "\n",
       "    .dataframe thead th {\n",
       "        text-align: right;\n",
       "    }\n",
       "</style>\n",
       "<table border=\"1\" class=\"dataframe\">\n",
       "  <thead>\n",
       "    <tr style=\"text-align: right;\">\n",
       "      <th></th>\n",
       "      <th>breed</th>\n",
       "      <th>Number of Adoptions</th>\n",
       "    </tr>\n",
       "  </thead>\n",
       "  <tbody>\n",
       "    <tr>\n",
       "      <th>0</th>\n",
       "      <td>Labrador Retriever Mix</td>\n",
       "      <td>2404</td>\n",
       "    </tr>\n",
       "    <tr>\n",
       "      <th>1</th>\n",
       "      <td>Pit Bull Mix</td>\n",
       "      <td>2382</td>\n",
       "    </tr>\n",
       "    <tr>\n",
       "      <th>2</th>\n",
       "      <td>Chihuahua Shorthair Mix</td>\n",
       "      <td>2293</td>\n",
       "    </tr>\n",
       "    <tr>\n",
       "      <th>3</th>\n",
       "      <td>German Shepherd Mix</td>\n",
       "      <td>937</td>\n",
       "    </tr>\n",
       "    <tr>\n",
       "      <th>4</th>\n",
       "      <td>Australian Cattle Dog Mix</td>\n",
       "      <td>619</td>\n",
       "    </tr>\n",
       "    <tr>\n",
       "      <th>5</th>\n",
       "      <td>Dachshund Mix</td>\n",
       "      <td>394</td>\n",
       "    </tr>\n",
       "    <tr>\n",
       "      <th>6</th>\n",
       "      <td>Border Collie Mix</td>\n",
       "      <td>355</td>\n",
       "    </tr>\n",
       "    <tr>\n",
       "      <th>7</th>\n",
       "      <td>Boxer Mix</td>\n",
       "      <td>313</td>\n",
       "    </tr>\n",
       "    <tr>\n",
       "      <th>8</th>\n",
       "      <td>Miniature Poodle Mix</td>\n",
       "      <td>276</td>\n",
       "    </tr>\n",
       "    <tr>\n",
       "      <th>9</th>\n",
       "      <td>Catahoula Mix</td>\n",
       "      <td>253</td>\n",
       "    </tr>\n",
       "  </tbody>\n",
       "</table>\n",
       "</div>"
      ],
      "text/plain": [
       "                       breed  Number of Adoptions\n",
       "0     Labrador Retriever Mix                 2404\n",
       "1               Pit Bull Mix                 2382\n",
       "2    Chihuahua Shorthair Mix                 2293\n",
       "3        German Shepherd Mix                  937\n",
       "4  Australian Cattle Dog Mix                  619\n",
       "5              Dachshund Mix                  394\n",
       "6          Border Collie Mix                  355\n",
       "7                  Boxer Mix                  313\n",
       "8       Miniature Poodle Mix                  276\n",
       "9              Catahoula Mix                  253"
      ]
     },
     "execution_count": 81,
     "metadata": {},
     "output_type": "execute_result"
    }
   ],
   "source": [
    "# Number of adoptions per dog breed\n",
    "dog_adoptions_by_breed = outcomes[(outcomes['animal_type'] == \"Dog\") & (outcomes['outcome_type'] == \"Adoption\")].groupby('breed').size().reset_index(name='Number of Adoptions').sort_values(by='Number of Adoptions', ascending=False).head(10)\n",
    "dog_adoptions_by_breeddf = pd.DataFrame(dog_adoptions_by_breed).reset_index()\n",
    "dog_adoptions_by_breeddf = dog_adoptions_by_breeddf.drop('index', axis=1)\n",
    "dog_adoptions_by_breeddf"
   ]
  },
  {
   "cell_type": "code",
   "execution_count": 83,
   "id": "998cc82b",
   "metadata": {},
   "outputs": [
    {
     "data": {
      "text/html": [
       "<div>\n",
       "<style scoped>\n",
       "    .dataframe tbody tr th:only-of-type {\n",
       "        vertical-align: middle;\n",
       "    }\n",
       "\n",
       "    .dataframe tbody tr th {\n",
       "        vertical-align: top;\n",
       "    }\n",
       "\n",
       "    .dataframe thead th {\n",
       "        text-align: right;\n",
       "    }\n",
       "</style>\n",
       "<table border=\"1\" class=\"dataframe\">\n",
       "  <thead>\n",
       "    <tr style=\"text-align: right;\">\n",
       "      <th></th>\n",
       "      <th>breed</th>\n",
       "      <th>Number of Intakes</th>\n",
       "      <th>Number of Adoptions</th>\n",
       "      <th>Adoption Rate %</th>\n",
       "    </tr>\n",
       "  </thead>\n",
       "  <tbody>\n",
       "    <tr>\n",
       "      <th>0</th>\n",
       "      <td>Pit Bull Mix</td>\n",
       "      <td>6379</td>\n",
       "      <td>2382</td>\n",
       "      <td>37.34</td>\n",
       "    </tr>\n",
       "    <tr>\n",
       "      <th>1</th>\n",
       "      <td>Chihuahua Shorthair Mix</td>\n",
       "      <td>4860</td>\n",
       "      <td>2293</td>\n",
       "      <td>47.18</td>\n",
       "    </tr>\n",
       "    <tr>\n",
       "      <th>2</th>\n",
       "      <td>Labrador Retriever Mix</td>\n",
       "      <td>4840</td>\n",
       "      <td>2404</td>\n",
       "      <td>49.67</td>\n",
       "    </tr>\n",
       "    <tr>\n",
       "      <th>3</th>\n",
       "      <td>German Shepherd Mix</td>\n",
       "      <td>1963</td>\n",
       "      <td>937</td>\n",
       "      <td>47.73</td>\n",
       "    </tr>\n",
       "    <tr>\n",
       "      <th>4</th>\n",
       "      <td>Australian Cattle Dog Mix</td>\n",
       "      <td>1105</td>\n",
       "      <td>619</td>\n",
       "      <td>56.02</td>\n",
       "    </tr>\n",
       "  </tbody>\n",
       "</table>\n",
       "</div>"
      ],
      "text/plain": [
       "                       breed  Number of Intakes  Number of Adoptions  \\\n",
       "0               Pit Bull Mix               6379                 2382   \n",
       "1    Chihuahua Shorthair Mix               4860                 2293   \n",
       "2     Labrador Retriever Mix               4840                 2404   \n",
       "3        German Shepherd Mix               1963                  937   \n",
       "4  Australian Cattle Dog Mix               1105                  619   \n",
       "\n",
       "   Adoption Rate %  \n",
       "0            37.34  \n",
       "1            47.18  \n",
       "2            49.67  \n",
       "3            47.73  \n",
       "4            56.02  "
      ]
     },
     "execution_count": 83,
     "metadata": {},
     "output_type": "execute_result"
    }
   ],
   "source": [
    "#Merging dataframes and calculating Adoption Rate as a percentage\n",
    "adoption_top_five = dog_intakesdf.merge(\n",
    "    dog_adoptions_by_breeddf,\n",
    "    left_on=['breed'],\n",
    "    right_on=['breed']\n",
    ")\n",
    "adoption_top_five[\"Adoption Rate %\"] = ((adoption_top_five['Number of Adoptions']/adoption_top_five['Number of Intakes'])*100).round(2)\n",
    "\n",
    "adoption_top_five.head()"
   ]
  },
  {
   "cell_type": "markdown",
   "id": "6fc88f34",
   "metadata": {},
   "source": [
    "### Final Answer\n",
    "The top five dog breeds taken into the shelter, from most intakes to least, are: Pit Bull Mixes, Chihuahua Shorthair Mixes, Labrador Retriever Mixes, German Shepherd Mixes, and Australian Cattle Dog Mixes. Their adoption rates are: 37.34%, 47.18%, 49.67%, 47.73%, and 56.02%, respectively. I would ALSO be most likely to adopt an Australian Cattle Hound Mix, so those stats make sense to me."
   ]
  },
  {
   "cell_type": "markdown",
   "id": "11c94b30",
   "metadata": {},
   "source": [
    "## 6. What are the adoption rates for different colorings?\n",
    "Find the top 5 colorings in the shelter (based on count) and then find the adoption percentage of each color.\n",
    "\n",
    "Approach: I will assume that this questions applies to dogs (as per question 5). So first, in intakes, I will filter by animal_type for dogs, then filter intakes by coloring and then sort by color and count to find the top 5 colors. Then, I will calculate the # of adoptions for each color (using a similar technique as above), will merge the dataframes and calculate adoption percentages."
   ]
  },
  {
   "cell_type": "code",
   "execution_count": 84,
   "id": "65919442",
   "metadata": {},
   "outputs": [
    {
     "data": {
      "text/html": [
       "<div>\n",
       "<style scoped>\n",
       "    .dataframe tbody tr th:only-of-type {\n",
       "        vertical-align: middle;\n",
       "    }\n",
       "\n",
       "    .dataframe tbody tr th {\n",
       "        vertical-align: top;\n",
       "    }\n",
       "\n",
       "    .dataframe thead th {\n",
       "        text-align: right;\n",
       "    }\n",
       "</style>\n",
       "<table border=\"1\" class=\"dataframe\">\n",
       "  <thead>\n",
       "    <tr style=\"text-align: right;\">\n",
       "      <th></th>\n",
       "      <th>color</th>\n",
       "      <th>Number of Intakes</th>\n",
       "    </tr>\n",
       "  </thead>\n",
       "  <tbody>\n",
       "    <tr>\n",
       "      <th>0</th>\n",
       "      <td>Black/White</td>\n",
       "      <td>5253</td>\n",
       "    </tr>\n",
       "    <tr>\n",
       "      <th>1</th>\n",
       "      <td>Black</td>\n",
       "      <td>2527</td>\n",
       "    </tr>\n",
       "    <tr>\n",
       "      <th>2</th>\n",
       "      <td>Brown/White</td>\n",
       "      <td>2500</td>\n",
       "    </tr>\n",
       "    <tr>\n",
       "      <th>3</th>\n",
       "      <td>Tan/White</td>\n",
       "      <td>2473</td>\n",
       "    </tr>\n",
       "    <tr>\n",
       "      <th>4</th>\n",
       "      <td>White</td>\n",
       "      <td>2378</td>\n",
       "    </tr>\n",
       "  </tbody>\n",
       "</table>\n",
       "</div>"
      ],
      "text/plain": [
       "         color  Number of Intakes\n",
       "0  Black/White               5253\n",
       "1        Black               2527\n",
       "2  Brown/White               2500\n",
       "3    Tan/White               2473\n",
       "4        White               2378"
      ]
     },
     "execution_count": 84,
     "metadata": {},
     "output_type": "execute_result"
    }
   ],
   "source": [
    "dog_intakes = intakes[intakes['animal_type'] == \"Dog\"].groupby('color').size().reset_index(name='Number of Intakes').sort_values(by='Number of Intakes', ascending=False).head(5)\n",
    "dog_intakes\n",
    "dog_intakesdf = pd.DataFrame(dog_intakes).reset_index()\n",
    "dog_intakesdf = dog_intakesdf.drop('index', axis=1)\n",
    "dog_intakesdf\n",
    "\n",
    "#intakes.groupby('found_location').size().reset_index(name='pickupcount').sort_values(['pickupcount'],ascending=False).head(5)"
   ]
  },
  {
   "cell_type": "code",
   "execution_count": 85,
   "id": "c32a3bac",
   "metadata": {},
   "outputs": [
    {
     "data": {
      "text/html": [
       "<div>\n",
       "<style scoped>\n",
       "    .dataframe tbody tr th:only-of-type {\n",
       "        vertical-align: middle;\n",
       "    }\n",
       "\n",
       "    .dataframe tbody tr th {\n",
       "        vertical-align: top;\n",
       "    }\n",
       "\n",
       "    .dataframe thead th {\n",
       "        text-align: right;\n",
       "    }\n",
       "</style>\n",
       "<table border=\"1\" class=\"dataframe\">\n",
       "  <thead>\n",
       "    <tr style=\"text-align: right;\">\n",
       "      <th></th>\n",
       "      <th>color</th>\n",
       "      <th>Number of Adoptions</th>\n",
       "    </tr>\n",
       "  </thead>\n",
       "  <tbody>\n",
       "    <tr>\n",
       "      <th>0</th>\n",
       "      <td>Black/White</td>\n",
       "      <td>2609</td>\n",
       "    </tr>\n",
       "    <tr>\n",
       "      <th>1</th>\n",
       "      <td>Tan/White</td>\n",
       "      <td>1178</td>\n",
       "    </tr>\n",
       "    <tr>\n",
       "      <th>2</th>\n",
       "      <td>Brown/White</td>\n",
       "      <td>1123</td>\n",
       "    </tr>\n",
       "    <tr>\n",
       "      <th>3</th>\n",
       "      <td>Black</td>\n",
       "      <td>1089</td>\n",
       "    </tr>\n",
       "    <tr>\n",
       "      <th>4</th>\n",
       "      <td>Tricolor</td>\n",
       "      <td>969</td>\n",
       "    </tr>\n",
       "    <tr>\n",
       "      <th>5</th>\n",
       "      <td>Tan</td>\n",
       "      <td>938</td>\n",
       "    </tr>\n",
       "    <tr>\n",
       "      <th>6</th>\n",
       "      <td>White</td>\n",
       "      <td>932</td>\n",
       "    </tr>\n",
       "    <tr>\n",
       "      <th>7</th>\n",
       "      <td>Black/Tan</td>\n",
       "      <td>873</td>\n",
       "    </tr>\n",
       "    <tr>\n",
       "      <th>8</th>\n",
       "      <td>Brown</td>\n",
       "      <td>790</td>\n",
       "    </tr>\n",
       "    <tr>\n",
       "      <th>9</th>\n",
       "      <td>White/Black</td>\n",
       "      <td>739</td>\n",
       "    </tr>\n",
       "  </tbody>\n",
       "</table>\n",
       "</div>"
      ],
      "text/plain": [
       "         color  Number of Adoptions\n",
       "0  Black/White                 2609\n",
       "1    Tan/White                 1178\n",
       "2  Brown/White                 1123\n",
       "3        Black                 1089\n",
       "4     Tricolor                  969\n",
       "5          Tan                  938\n",
       "6        White                  932\n",
       "7    Black/Tan                  873\n",
       "8        Brown                  790\n",
       "9  White/Black                  739"
      ]
     },
     "execution_count": 85,
     "metadata": {},
     "output_type": "execute_result"
    }
   ],
   "source": [
    "dog_adoptions_by_breed = outcomes[(outcomes['animal_type'] == \"Dog\") & (outcomes['outcome_type'] == \"Adoption\")].groupby('color').size().reset_index(name='Number of Adoptions').sort_values(by='Number of Adoptions', ascending=False).head(10)\n",
    "dog_adoptions_by_breeddf = pd.DataFrame(dog_adoptions_by_breed).reset_index()\n",
    "dog_adoptions_by_breeddf = dog_adoptions_by_breeddf.drop('index', axis=1)\n",
    "dog_adoptions_by_breeddf"
   ]
  },
  {
   "cell_type": "code",
   "execution_count": 86,
   "id": "2e38f344",
   "metadata": {},
   "outputs": [
    {
     "data": {
      "text/html": [
       "<div>\n",
       "<style scoped>\n",
       "    .dataframe tbody tr th:only-of-type {\n",
       "        vertical-align: middle;\n",
       "    }\n",
       "\n",
       "    .dataframe tbody tr th {\n",
       "        vertical-align: top;\n",
       "    }\n",
       "\n",
       "    .dataframe thead th {\n",
       "        text-align: right;\n",
       "    }\n",
       "</style>\n",
       "<table border=\"1\" class=\"dataframe\">\n",
       "  <thead>\n",
       "    <tr style=\"text-align: right;\">\n",
       "      <th></th>\n",
       "      <th>color</th>\n",
       "      <th>Number of Intakes</th>\n",
       "      <th>Number of Adoptions</th>\n",
       "      <th>Adoption Rate %</th>\n",
       "    </tr>\n",
       "  </thead>\n",
       "  <tbody>\n",
       "    <tr>\n",
       "      <th>0</th>\n",
       "      <td>Black/White</td>\n",
       "      <td>5253</td>\n",
       "      <td>2609</td>\n",
       "      <td>49.67</td>\n",
       "    </tr>\n",
       "    <tr>\n",
       "      <th>1</th>\n",
       "      <td>Black</td>\n",
       "      <td>2527</td>\n",
       "      <td>1089</td>\n",
       "      <td>43.09</td>\n",
       "    </tr>\n",
       "    <tr>\n",
       "      <th>2</th>\n",
       "      <td>Brown/White</td>\n",
       "      <td>2500</td>\n",
       "      <td>1123</td>\n",
       "      <td>44.92</td>\n",
       "    </tr>\n",
       "    <tr>\n",
       "      <th>3</th>\n",
       "      <td>Tan/White</td>\n",
       "      <td>2473</td>\n",
       "      <td>1178</td>\n",
       "      <td>47.63</td>\n",
       "    </tr>\n",
       "    <tr>\n",
       "      <th>4</th>\n",
       "      <td>White</td>\n",
       "      <td>2378</td>\n",
       "      <td>932</td>\n",
       "      <td>39.19</td>\n",
       "    </tr>\n",
       "  </tbody>\n",
       "</table>\n",
       "</div>"
      ],
      "text/plain": [
       "         color  Number of Intakes  Number of Adoptions  Adoption Rate %\n",
       "0  Black/White               5253                 2609            49.67\n",
       "1        Black               2527                 1089            43.09\n",
       "2  Brown/White               2500                 1123            44.92\n",
       "3    Tan/White               2473                 1178            47.63\n",
       "4        White               2378                  932            39.19"
      ]
     },
     "execution_count": 86,
     "metadata": {},
     "output_type": "execute_result"
    }
   ],
   "source": [
    "#Merging dataframes\n",
    "adoption_top_five = dog_intakesdf.merge(\n",
    "    dog_adoptions_by_breeddf,\n",
    "    left_on=['color'],\n",
    "    right_on=['color']\n",
    ")\n",
    "adoption_top_five[\"Adoption Rate %\"] = ((adoption_top_five['Number of Adoptions']/adoption_top_five['Number of Intakes'])*100).round(2)\n",
    "\n",
    "adoption_top_five.head()"
   ]
  },
  {
   "cell_type": "markdown",
   "id": "24645689",
   "metadata": {},
   "source": [
    "### Final Answer\n",
    "The top five dog colors taken into the shelter, from most intakes to least, are: Black/White, Black, Brown/White, Tan/White, and White. Their adoption rates are: 49.67%, 43.09%, 44.92%, 47.63%, and 39.19%, respectively."
   ]
  },
  {
   "cell_type": "markdown",
   "id": "53b87a90",
   "metadata": {},
   "source": [
    "## 7. About how many animals are spayed/neutered each month?\n",
    "This will help the shelter allocate resources and staff. Assume that all intact males and females will be spayed/neutered. \n",
    "\n",
    "Approach: The assumption that all intact males and females will be spayed/neutered assumes that even animals returned to rheir owners will be spayed/neutered, which I think is incorrect. However, I will approach this two ways:\n",
    "\n",
    "1. Assume ALL intact intakes are neutered, regardless of outcome_type. This assumes that either they are neutered in the same month they arrive or there is a consistent stream of neuters so the variance between intake date and neuter date is negligible.\n",
    "\n",
    "2. Determine number of outcomes in which sex_upon_outtake was \"Neutered Male\" or \"Neutered Female\" and sex_upon_intake is DIFFERENT than sex_upon_outcome. This positively identifies cases in which a dogs sexual status has changed, rather than making assumptions based on intakes status."
   ]
  },
  {
   "cell_type": "code",
   "execution_count": 87,
   "id": "b0f7323a",
   "metadata": {},
   "outputs": [
    {
     "data": {
      "text/plain": [
       "49337"
      ]
     },
     "execution_count": 87,
     "metadata": {},
     "output_type": "execute_result"
    }
   ],
   "source": [
    "# Approach 1\n",
    "# determine numbers of intact intakes\n",
    "intact_intakes = intakes[intakes['sex_upon_intake'].str.contains('Intact')]\n",
    "intact_intakes_by_month = intact_intakes.groupby(['year','month']).size().sum()\n",
    "round(intact_intakes_by_month,2)"
   ]
  },
  {
   "cell_type": "code",
   "execution_count": 88,
   "id": "15d5fac4",
   "metadata": {},
   "outputs": [
    {
     "data": {
      "text/plain": [
       "914"
      ]
     },
     "execution_count": 88,
     "metadata": {},
     "output_type": "execute_result"
    }
   ],
   "source": [
    "intact_intakes_by_month = intact_intakes.groupby(['year','month']).size().mean()\n",
    "round(intact_intakes_by_month)"
   ]
  },
  {
   "cell_type": "code",
   "execution_count": 90,
   "id": "fb33f048",
   "metadata": {},
   "outputs": [
    {
     "data": {
      "text/plain": [
       "29978"
      ]
     },
     "execution_count": 90,
     "metadata": {},
     "output_type": "execute_result"
    }
   ],
   "source": [
    "# Approach 2\n",
    "# determine number of sex changes\n",
    "intact_outcomes = intakes_outcomes[intakes_outcomes['sex_upon_intake'].str.contains('Intact')]\n",
    "neuters = intact_outcomes[intact_outcomes['sex_upon_outcome'] != intact_outcomes['sex_upon_intake']]\n",
    "len(neuters)"
   ]
  },
  {
   "cell_type": "code",
   "execution_count": 91,
   "id": "2788b4e4",
   "metadata": {},
   "outputs": [
    {
     "data": {
      "text/plain": [
       "sex_upon_outcome\n",
       "Neutered Male    15581\n",
       "Spayed Female    14397\n",
       "dtype: int64"
      ]
     },
     "execution_count": 91,
     "metadata": {},
     "output_type": "execute_result"
    }
   ],
   "source": [
    "neuters.groupby('sex_upon_outcome').size().sort_values(ascending=False).head()"
   ]
  },
  {
   "cell_type": "code",
   "execution_count": 92,
   "id": "43e9b8b0",
   "metadata": {},
   "outputs": [
    {
     "data": {
      "text/plain": [
       "555"
      ]
     },
     "execution_count": 92,
     "metadata": {},
     "output_type": "execute_result"
    }
   ],
   "source": [
    "neuters_by_month = neuters.groupby(['intake_year','intake_month']).size().mean()\n",
    "round(neuters_by_month)"
   ]
  },
  {
   "cell_type": "markdown",
   "id": "95a5afc9",
   "metadata": {},
   "source": [
    "### Final Answer: \n",
    "Approach 1: There are approximately 914 neuters conducted each month.\n",
    "Approach 2: There are approximately 555 neuters conducted each month."
   ]
  },
  {
   "cell_type": "markdown",
   "id": "6257fe87",
   "metadata": {},
   "source": [
    "## Extra Credit"
   ]
  },
  {
   "cell_type": "markdown",
   "id": "e423784c",
   "metadata": {},
   "source": [
    "## 1. How many animals in the shelter are repeats? Which animal was returned to the shelter the most?\n",
    "This means the animal has been brought in more than once.\n",
    "\n",
    "Approach: For this, I will use the intakes dataframe. I will assume that each time a 'repeat customer' is taken into the shelter, it is given the same animal id. However, for each intake occurrence, it will have a new unique index. To answer the first question, I will count up the number of animal_ids that appear more than once in the intakes dataframe. \n",
    "\n",
    "To answer the second part of the question, I will get details on the animal with the max number of intakes."
   ]
  },
  {
   "cell_type": "code",
   "execution_count": 93,
   "id": "3dbaf383",
   "metadata": {},
   "outputs": [
    {
     "data": {
      "text/plain": [
       "6133"
      ]
     },
     "execution_count": 93,
     "metadata": {},
     "output_type": "execute_result"
    }
   ],
   "source": [
    "intakes_per_animal_id = intakes.groupby('animal_id').size().reset_index(name='Number of Intakes').sort_values(by='Number of Intakes',ascending=False)\n",
    "repeat_intakes = intakes_per_animal_id[intakes_per_animal_id['Number of Intakes'] > 1]\n",
    "len(repeat_intakes)"
   ]
  },
  {
   "cell_type": "code",
   "execution_count": 94,
   "id": "e17a27d5",
   "metadata": {},
   "outputs": [
    {
     "data": {
      "text/html": [
       "<div>\n",
       "<style scoped>\n",
       "    .dataframe tbody tr th:only-of-type {\n",
       "        vertical-align: middle;\n",
       "    }\n",
       "\n",
       "    .dataframe tbody tr th {\n",
       "        vertical-align: top;\n",
       "    }\n",
       "\n",
       "    .dataframe thead th {\n",
       "        text-align: right;\n",
       "    }\n",
       "</style>\n",
       "<table border=\"1\" class=\"dataframe\">\n",
       "  <thead>\n",
       "    <tr style=\"text-align: right;\">\n",
       "      <th></th>\n",
       "      <th>animal_id</th>\n",
       "      <th>Number of Intakes</th>\n",
       "    </tr>\n",
       "  </thead>\n",
       "  <tbody>\n",
       "    <tr>\n",
       "      <th>41352</th>\n",
       "      <td>A721033</td>\n",
       "      <td>13</td>\n",
       "    </tr>\n",
       "  </tbody>\n",
       "</table>\n",
       "</div>"
      ],
      "text/plain": [
       "      animal_id  Number of Intakes\n",
       "41352   A721033                 13"
      ]
     },
     "execution_count": 94,
     "metadata": {},
     "output_type": "execute_result"
    }
   ],
   "source": [
    "repeat_intakes.head(1)"
   ]
  },
  {
   "cell_type": "markdown",
   "id": "52045aef",
   "metadata": {},
   "source": [
    "### Final Answer: \n",
    "There were 6,133 'repeat offenders', i.e. animals who had been admitted more than once. The animal that was admitted most was animal_id A721033, with 13 intakes."
   ]
  },
  {
   "cell_type": "markdown",
   "id": "1c83baba",
   "metadata": {},
   "source": [
    "## 2. What are the adoption rates for the following age groups?\n",
    "* baby: 4 months and less\n",
    "* young: 5 months - 2 years\n",
    "* adult: 3 years - 10 years\n",
    "* senior: 11+\n",
    "\n",
    "Approach: I am first going to add a field to the intakes_outcomes table to indicate what age bracket the animal falls into. I will base this on age_upon_outcomes(days). Then I will create a new dataframe to house by data. To collect and calculate the data, I will use a for loop to cycle through the age group label list and calculate the adoption rate data. This will then be added to the dataframe."
   ]
  },
  {
   "cell_type": "code",
   "execution_count": 97,
   "id": "edfa5c3a",
   "metadata": {},
   "outputs": [
    {
     "data": {
      "text/html": [
       "<div>\n",
       "<style scoped>\n",
       "    .dataframe tbody tr th:only-of-type {\n",
       "        vertical-align: middle;\n",
       "    }\n",
       "\n",
       "    .dataframe tbody tr th {\n",
       "        vertical-align: top;\n",
       "    }\n",
       "\n",
       "    .dataframe thead th {\n",
       "        text-align: right;\n",
       "    }\n",
       "</style>\n",
       "<table border=\"1\" class=\"dataframe\">\n",
       "  <thead>\n",
       "    <tr style=\"text-align: right;\">\n",
       "      <th></th>\n",
       "      <th>Type</th>\n",
       "      <th>Total_Number</th>\n",
       "      <th>Total_Number_of_Adoptions</th>\n",
       "      <th>AdoptionPerc</th>\n",
       "    </tr>\n",
       "  </thead>\n",
       "  <tbody>\n",
       "    <tr>\n",
       "      <th>0</th>\n",
       "      <td>baby</td>\n",
       "      <td>24518</td>\n",
       "      <td>12591</td>\n",
       "      <td>51.35</td>\n",
       "    </tr>\n",
       "    <tr>\n",
       "      <th>1</th>\n",
       "      <td>young</td>\n",
       "      <td>34776</td>\n",
       "      <td>14507</td>\n",
       "      <td>41.72</td>\n",
       "    </tr>\n",
       "    <tr>\n",
       "      <th>2</th>\n",
       "      <td>adult</td>\n",
       "      <td>18099</td>\n",
       "      <td>6030</td>\n",
       "      <td>33.32</td>\n",
       "    </tr>\n",
       "    <tr>\n",
       "      <th>3</th>\n",
       "      <td>senior</td>\n",
       "      <td>2150</td>\n",
       "      <td>452</td>\n",
       "      <td>21.02</td>\n",
       "    </tr>\n",
       "  </tbody>\n",
       "</table>\n",
       "</div>"
      ],
      "text/plain": [
       "     Type Total_Number Total_Number_of_Adoptions  AdoptionPerc\n",
       "0    baby        24518                     12591         51.35\n",
       "1   young        34776                     14507         41.72\n",
       "2   adult        18099                      6030         33.32\n",
       "3  senior         2150                       452         21.02"
      ]
     },
     "execution_count": 97,
     "metadata": {},
     "output_type": "execute_result"
    }
   ],
   "source": [
    "# create data bins according to age in days; 15000 days is used as the oldest age - perhaps for a very senior parrot.\n",
    "bins = [0,120,730,3650,15000]    \n",
    "labels = ['baby', 'young', 'adult', 'senior']\n",
    "\n",
    "# add an age_group field to the intakes_outcomes dataset\n",
    "intakes_outcomes['age_group'] = pd.cut(intakes_outcomes['age_upon_outcome_(days)'], bins=bins, labels=labels, right=True)\n",
    "\n",
    "# create a new dataframe shell for the adoption data\n",
    "# for each age group, calculate the total number of animals in that age group using len(), the number of adoptions using outcome_type, and the % adopted\n",
    "# add each record to the dataframe, looping over the labels list\n",
    "\n",
    "adoption_age_data = pd.DataFrame([], columns=['Type','Total_Number', 'Total_Number_of_Adoptions', 'AdoptionPerc'])\n",
    "\n",
    "for item in labels:\n",
    "    age_category = item\n",
    "    number_in_age_group = len(intakes_outcomes[intakes_outcomes['age_group'] == item])\n",
    "    number_adopted = len(intakes_outcomes[(intakes_outcomes['age_group'] == item) & (intakes_outcomes['outcome_type'] == \"Adoption\")])\n",
    "    percent_adopted = round((number_adopted/number_in_age_group*100),2)\n",
    "    record = {'Type':[age_category], 'Total_Number':[number_in_age_group], 'Total_Number_of_Adoptions':[number_adopted], 'AdoptionPerc':[percent_adopted]}\n",
    "    recorddf=pd.DataFrame(record)\n",
    "    adoption_age_data = pd.concat([adoption_age_data,recorddf],ignore_index=True)\n",
    "adoption_age_data"
   ]
  },
  {
   "cell_type": "markdown",
   "id": "18758880",
   "metadata": {},
   "source": [
    "### Final Answer: \n",
    "The adoption rates for baby animals is 51.35%, for young animals is 41.72%, for adult animals is 33.32%, and for senior animals is 21.02%"
   ]
  },
  {
   "cell_type": "markdown",
   "id": "88498664",
   "metadata": {},
   "source": [
    "## 3. If spay/neuter for a dog costs \\\\$100 and a spay/neuter for a cat costs \\\\$50, how much did the shelter spend in 2015 on these procedures?\n",
    "\n",
    "Approach: I will assume that all intact intakes in 2015 were spayed or neutered, unless they were returned to their owner."
   ]
  },
  {
   "cell_type": "code",
   "execution_count": 105,
   "id": "22494930",
   "metadata": {},
   "outputs": [
    {
     "data": {
      "text/plain": [
       "5061"
      ]
     },
     "execution_count": 105,
     "metadata": {},
     "output_type": "execute_result"
    }
   ],
   "source": [
    "# intact_intakes from Question 7 is the subset from intakes of animals with the work 'Intact' in their sex_upon_intake\n",
    "# tfintact_intakes (below) are the intact intakes in 2015 (tf)\n",
    "tfintact_intakes = intact_intakes[(intact_intakes['datetime'] >= pd.Timestamp(2015,1,1)) & (intact_intakes['datetime'] <= pd.Timestamp(2015,12,31))]\n",
    "tfcat_neuters = len(tfintact_intakes[tfintact_intakes['animal_type'] == 'Cat'])\n",
    "tfcat_neuters"
   ]
  },
  {
   "cell_type": "code",
   "execution_count": 106,
   "id": "1c35f4ca",
   "metadata": {},
   "outputs": [
    {
     "data": {
      "text/plain": [
       "6086"
      ]
     },
     "execution_count": 106,
     "metadata": {},
     "output_type": "execute_result"
    }
   ],
   "source": [
    "tfdog_neuters = len(tfintact_intakes[tfintact_intakes['animal_type'] == 'Dog'])\n",
    "tfdog_neuters"
   ]
  },
  {
   "cell_type": "code",
   "execution_count": 107,
   "id": "75604c0d",
   "metadata": {},
   "outputs": [
    {
     "name": "stdout",
     "output_type": "stream",
     "text": [
      "861650\n"
     ]
    }
   ],
   "source": [
    "cost_of_2015_neuters = (tfcat_neuters * 50) + (tfdog_neuters * 100)\n",
    "print(cost_of_2015_neuters)"
   ]
  },
  {
   "cell_type": "markdown",
   "id": "dc1a596f",
   "metadata": {},
   "source": [
    "### Final Answer: \n",
    "In 2015, the shelter spent \\\\$861,650 to spay or neuter 5,061 cats and 6,086 dogs."
   ]
  },
  {
   "cell_type": "markdown",
   "id": "731e82b4",
   "metadata": {},
   "source": [
    "## 4. Describe your findings and methods for each of the above quesitons. Use markdown cells in JupyterLab to detail. \n",
    "How did you get your answer?\n",
    "What was your final answer?"
   ]
  },
  {
   "cell_type": "markdown",
   "id": "d0ab2ea0",
   "metadata": {},
   "source": [
    "### Final Answer: See above for approaches and final answers for all questions"
   ]
  }
 ],
 "metadata": {
  "kernelspec": {
   "display_name": "Python 3 (ipykernel)",
   "language": "python",
   "name": "python3"
  },
  "language_info": {
   "codemirror_mode": {
    "name": "ipython",
    "version": 3
   },
   "file_extension": ".py",
   "mimetype": "text/x-python",
   "name": "python",
   "nbconvert_exporter": "python",
   "pygments_lexer": "ipython3",
   "version": "3.9.13"
  }
 },
 "nbformat": 4,
 "nbformat_minor": 5
}
